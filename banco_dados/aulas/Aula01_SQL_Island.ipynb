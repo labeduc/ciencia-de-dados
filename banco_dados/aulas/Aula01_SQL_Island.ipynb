{
  "nbformat": 4,
  "nbformat_minor": 0,
  "metadata": {
    "colab": {
      "provenance": [],
      "collapsed_sections": []
    },
    "kernelspec": {
      "name": "python3",
      "display_name": "Python 3"
    },
    "language_info": {
      "name": "python"
    }
  },
  "cells": [
    {
      "cell_type": "code",
      "execution_count": null,
      "metadata": {
        "id": "4ZB7I1cas-50"
      },
      "outputs": [],
      "source": [
        "# Importar a biblioteca sqlite3 para podermos trabalhar com base de dados SQLite para praticar os exercícios da aula\n",
        "import sqlite3\n",
        "\n",
        "# Download do dataset do exercicio - sql_island.db\n",
        "!wget https://github.com/labeduc/datasets/raw/main/banco_dados/sql_island.db"
      ]
    },
    {
      "cell_type": "code",
      "source": [
        "# Conectar no banco de dados - sql_island.db\n",
        "conn = sqlite3.connect('sql_island.db')"
      ],
      "metadata": {
        "id": "iuvpDDe83ejR"
      },
      "execution_count": 18,
      "outputs": []
    },
    {
      "cell_type": "code",
      "source": [
        "# Mostrando o conteúdo da tabela aldeia\n",
        "cursor_aldeia = conn.execute(\"select * from aldeia\")\n",
        "for row in cursor_aldeia:\n",
        "  print(row)"
      ],
      "metadata": {
        "id": "1GlERDalwEO_"
      },
      "execution_count": null,
      "outputs": []
    },
    {
      "cell_type": "code",
      "source": [
        "# Mostrando o conteúdo da tabela habitante\n",
        "cursor_habitante = conn.execute(\"select * from habitante\")\n",
        "for row in cursor_habitante:\n",
        "  print(row)"
      ],
      "metadata": {
        "id": "tuShpGRGv7JF"
      },
      "execution_count": null,
      "outputs": []
    },
    {
      "cell_type": "code",
      "source": [
        "# Mostrando o conteúdo da tabela item\n",
        "cursor_item = conn.execute(\"select * from item\")\n",
        "for row in cursor_item:\n",
        "  print(row)"
      ],
      "metadata": {
        "id": "2V7py0xMv7Y-"
      },
      "execution_count": null,
      "outputs": []
    },
    {
      "cell_type": "markdown",
      "source": [
        "## **Exercícios**"
      ],
      "metadata": {
        "id": "W5tkbHxcwmcP"
      }
    },
    {
      "cell_type": "markdown",
      "source": [
        "a) Quem mora na Cidade Macaco ? Quem mora na Cidade Macaco e tem o sobrenome Baterista?"
      ],
      "metadata": {
        "id": "0FxM4pT8wUza"
      }
    },
    {
      "cell_type": "code",
      "source": [
        "# resposta"
      ],
      "metadata": {
        "id": "xJ02knUnwsje"
      },
      "execution_count": null,
      "outputs": []
    },
    {
      "cell_type": "markdown",
      "source": [
        "b) Quem é o chefe de cada aldeia ?"
      ],
      "metadata": {
        "id": "RfG6TXKfwack"
      }
    },
    {
      "cell_type": "code",
      "source": [
        "# resposta"
      ],
      "metadata": {
        "id": "lFAxCl1RwxEA"
      },
      "execution_count": null,
      "outputs": []
    },
    {
      "cell_type": "markdown",
      "source": [
        "c) Quem é do sexo masculino que mora na Cidade Pepino e possui mais que 100 ouros e que seja ordenado pela quantidade de ouro pela ordem de quem ganha mais primeiro?"
      ],
      "metadata": {
        "id": "kgchUPJ_wdT8"
      }
    },
    {
      "cell_type": "code",
      "source": [
        "# resposta"
      ],
      "metadata": {
        "id": "IzJ_PRBEwxmt"
      },
      "execution_count": null,
      "outputs": []
    },
    {
      "cell_type": "markdown",
      "source": [
        "d) Qual cidade é a mais rica ? DICA: Podem utilizar a função SUM de agregação de dados (COUNT - conta linhas, SUM soma dados de um conjunto)"
      ],
      "metadata": {
        "id": "9r6pvT6Twfpg"
      }
    },
    {
      "cell_type": "code",
      "source": [
        "# resposta"
      ],
      "metadata": {
        "id": "1I2M2aYXwyO8"
      },
      "execution_count": null,
      "outputs": []
    },
    {
      "cell_type": "markdown",
      "source": [
        "e) Qual é o cidadão mais rico ?"
      ],
      "metadata": {
        "id": "7llA1geMwiOR"
      }
    },
    {
      "cell_type": "code",
      "source": [
        "# resposta"
      ],
      "metadata": {
        "id": "WOcAPOX_wzCu"
      },
      "execution_count": null,
      "outputs": []
    },
    {
      "cell_type": "markdown",
      "source": [
        "f) Qual é o item e o nome do proprietário dos itens que tem dono?"
      ],
      "metadata": {
        "id": "spNh7CJCwkqO"
      }
    },
    {
      "cell_type": "code",
      "source": [
        "# resposta"
      ],
      "metadata": {
        "id": "D9jOdf5cwzwA"
      },
      "execution_count": null,
      "outputs": []
    },
    {
      "cell_type": "markdown",
      "source": [
        "g) **DESAFIO - VALE PESQUISAR NO GOOGLE** - Como vocês converteriam estas três tabelas (aldeia,item,habitante) de cursor para o formato pandas dataframe ?"
      ],
      "metadata": {
        "id": "_7CZ_c-uxp16"
      }
    },
    {
      "cell_type": "code",
      "source": [
        "# resposta"
      ],
      "metadata": {
        "id": "8CScQ65byGOM"
      },
      "execution_count": null,
      "outputs": []
    }
  ]
}