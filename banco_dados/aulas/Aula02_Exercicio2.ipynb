{
  "nbformat": 4,
  "nbformat_minor": 0,
  "metadata": {
    "colab": {
      "provenance": []
    },
    "kernelspec": {
      "name": "python3",
      "display_name": "Python 3"
    },
    "language_info": {
      "name": "python"
    }
  },
  "cells": [
    {
      "cell_type": "code",
      "execution_count": null,
      "metadata": {
        "id": "qWaJOTezLhgL"
      },
      "outputs": [],
      "source": [
        "# Importar a biblioteca sqlite3 para podermos trabalhar com base de dados SQLite para praticar os exercícios da aula\n",
        "import sqlite3\n",
        "\n",
        "# Download do dataset do exercicio - sql_island.db\n",
        "!wget https://github.com/labeduc/datasets/blob/main/banco_dados/bdempregados.sdb"
      ]
    },
    {
      "cell_type": "code",
      "source": [
        "# Conectar no banco de dados - sql_island.db\n",
        "conn = sqlite3.connect('sql_island.db')"
      ],
      "metadata": {
        "id": "-DQq1Kx9L0sm"
      },
      "execution_count": null,
      "outputs": []
    },
    {
      "cell_type": "code",
      "source": [
        "# Mostrando o conteúdo da tabela aldeia\n",
        "#cursor_aldeia = conn.execute(\"select * from aldeia\")\n",
        "#for row in cursor_aldeia:\n",
        "#  print(row)"
      ],
      "metadata": {
        "id": "1AOMtj4aL3mV"
      },
      "execution_count": null,
      "outputs": []
    },
    {
      "cell_type": "code",
      "source": [],
      "metadata": {
        "id": "2IFz5B-CL8Wd"
      },
      "execution_count": null,
      "outputs": []
    },
    {
      "cell_type": "markdown",
      "source": [
        "# 1) Crie todas as tabela do modelo BDEmpregado, escolha o melhor tipo de dado para cada atributo e a melhor nomenclatura de acordo com as melhores práticas citadas na aulas, de acordo com os registros apresentados;  "
      ],
      "metadata": {
        "id": "9oBVgiS1MWmE"
      }
    },
    {
      "cell_type": "code",
      "source": [],
      "metadata": {
        "id": "Zu2vNLN_tCCo"
      },
      "execution_count": null,
      "outputs": []
    },
    {
      "cell_type": "markdown",
      "source": [
        "# 2) Insira todos os registros do modelo em suas respectivas tabelas; "
      ],
      "metadata": {
        "id": "CqdcU7AeMXHq"
      }
    },
    {
      "cell_type": "code",
      "source": [],
      "metadata": {
        "id": "xsNM__-atCzx"
      },
      "execution_count": null,
      "outputs": []
    },
    {
      "cell_type": "markdown",
      "source": [
        "# 3) Selecione todos os campos da tabela empregados; "
      ],
      "metadata": {
        "id": "Ign4aOO7MXc7"
      }
    },
    {
      "cell_type": "code",
      "source": [],
      "metadata": {
        "id": "4AGfQNsitEQs"
      },
      "execution_count": null,
      "outputs": []
    },
    {
      "cell_type": "markdown",
      "source": [
        "# 4) Selecione todos os campos da tabela empregados ordenados por RG em ordem decrescente;"
      ],
      "metadata": {
        "id": "AFHokWb1MXvl"
      }
    },
    {
      "cell_type": "code",
      "source": [],
      "metadata": {
        "id": "ZFHa_EDztE-P"
      },
      "execution_count": null,
      "outputs": []
    },
    {
      "cell_type": "markdown",
      "source": [
        "# 5) Selecione todos os campos da tabela empregados ordenados por nome em ordem decrescente;"
      ],
      "metadata": {
        "id": "AP67GPU-MYCp"
      }
    },
    {
      "cell_type": "code",
      "source": [],
      "metadata": {
        "id": "hRv2oA0RtJVa"
      },
      "execution_count": null,
      "outputs": []
    },
    {
      "cell_type": "markdown",
      "source": [
        "# 6) Selecione o nome de todos os empregados e o nome, a data de nascimento e a relação dos dependentes ordenados por nome dependente. "
      ],
      "metadata": {
        "id": "XUW9d1kWMYL3"
      }
    },
    {
      "cell_type": "code",
      "source": [],
      "metadata": {
        "id": "SwGS0q2QtKwb"
      },
      "execution_count": null,
      "outputs": []
    },
    {
      "cell_type": "markdown",
      "source": [
        "# 7) Indique quantos empregados existem por departamento; "
      ],
      "metadata": {
        "id": "iHkEEVWpMYVT"
      }
    },
    {
      "cell_type": "code",
      "source": [],
      "metadata": {
        "id": "lQm0Umg2tMet"
      },
      "execution_count": null,
      "outputs": []
    },
    {
      "cell_type": "markdown",
      "source": [
        "# 8) Indique quantos empregados existem por projeto; "
      ],
      "metadata": {
        "id": "xQ4jRiKBMn9m"
      }
    },
    {
      "cell_type": "code",
      "source": [],
      "metadata": {
        "id": "qlfoDrUjtOEd"
      },
      "execution_count": null,
      "outputs": []
    },
    {
      "cell_type": "markdown",
      "source": [
        "# 9) Indique quantos projetos existem por departamento; "
      ],
      "metadata": {
        "id": "1ahpR9gGMpcB"
      }
    },
    {
      "cell_type": "code",
      "source": [],
      "metadata": {
        "id": "NoGp3zJmtO40"
      },
      "execution_count": null,
      "outputs": []
    },
    {
      "cell_type": "markdown",
      "source": [
        "# 10) Indique quantos dependentes existem. "
      ],
      "metadata": {
        "id": "KTCpyDoJMqow"
      }
    },
    {
      "cell_type": "code",
      "source": [],
      "metadata": {
        "id": "5IBkmIXHtQ9b"
      },
      "execution_count": null,
      "outputs": []
    }
  ]
}