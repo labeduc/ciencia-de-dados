{
  "nbformat": 4,
  "nbformat_minor": 0,
  "metadata": {
    "colab": {
      "name": "Expressões Regulares.ipynb",
      "provenance": [],
      "collapsed_sections": [
        "gMZyDSuP_Pgk",
        "C6k5AElu_ZRW",
        "Wxdbur3GBL1G"
      ],
      "authorship_tag": "ABX9TyPoQpOP7MLEYZowccjPiXHD",
      "include_colab_link": true
    },
    "kernelspec": {
      "name": "python3",
      "display_name": "Python 3"
    },
    "language_info": {
      "name": "python"
    }
  },
  "cells": [
    {
      "cell_type": "markdown",
      "metadata": {
        "id": "view-in-github",
        "colab_type": "text"
      },
      "source": [
        "<a href=\"https://colab.research.google.com/github/labeduc/ciencia-de-dados/blob/main/python/LabEduc%20-%20Python%20-%20Express%C3%B5es%20Regulares.ipynb\" target=\"_parent\"><img src=\"https://colab.research.google.com/assets/colab-badge.svg\" alt=\"Open In Colab\"/></a>"
      ]
    },
    {
      "cell_type": "markdown",
      "source": [
        "# Expressões Regulares - Salvação ou Dor de Cabeça???"
      ],
      "metadata": {
        "id": "dJL1R6t5VSoc"
      }
    },
    {
      "cell_type": "markdown",
      "source": [
        "## Introdução"
      ],
      "metadata": {
        "id": "gMZyDSuP_Pgk"
      }
    },
    {
      "cell_type": "markdown",
      "source": [
        "Umas das operações mais comuns que temos em algoritmos é encontrar ou comparar pedaços de strings baseados em um padrão. O próprio objeto str do Python nos auxilia com esse tipo com funções do tipo **.startsWith()**, **.endsWith()** **.replace()** e mais algumas outras. O próprio operador **IN** serve tanto para identificar se uma string está contida entre os elementos de uma lista ou se ela faz parte de outra string."
      ],
      "metadata": {
        "id": "81_7NVrYVYU4"
      }
    },
    {
      "cell_type": "markdown",
      "source": [
        "## E quando procuramos por padrões mais complexos?"
      ],
      "metadata": {
        "id": "C6k5AElu_ZRW"
      }
    },
    {
      "cell_type": "markdown",
      "source": [
        "Entram em cena as expressões regulares, que nada mais são strings que através de uma convenção, estabelece um padrão de como se espera que outras strings sejam formadas. Utilizando a biblioteca **re**, nós aplicamos a expressão em uma string e temos como retorno um objeto do tipo **match**, que vem preenchido quando a string contém o padrão. Também é possível que este objeto match tenha sub objetos do tipo **group**, que indicam que a expressão regular solicita para identificar pedaços específicos da string.\n",
        "\n",
        "Vamos analisar uma expressão para entender na prática???"
      ],
      "metadata": {
        "id": "172SQXTA_f3w"
      }
    },
    {
      "cell_type": "markdown",
      "source": [
        "## Analisando uma expressão"
      ],
      "metadata": {
        "id": "Wxdbur3GBL1G"
      }
    },
    {
      "cell_type": "markdown",
      "source": [
        "Dada a expressão \n",
        "\n",
        "```python\n",
        "regex = r\"^(.+)\\((.+)\\)\\s*\\-*\\s*(.*)$\"\n",
        "```\n",
        "\n",
        "vamos entender suas partes. Mas antes, vamos à algumas definições.\n",
        "\n",
        "### Como criar uma expressão regular\n",
        "\n",
        "#### String de Expressão Regular - r\"\"\n",
        "\n",
        "Esta linha de código em Python nos apresenta uma variável chamada regex que recebe uma string que representa a expressão regular. Até aí, isto é comum, uma variável recebendo uma string como valor. O que vale a pena notar é que a string é precedida da letra r, o que diz para o compilador Python que esta string contém uma expressão regular e que torna mais fácil sua escrita.\n",
        "\n",
        "#### Caracteres âncora ^ e $\n",
        "\n",
        "O primeiro elemento da expressão é o caracter **^** que demarca o início da expressão. Isso também implica geralmente em ter a expressão finalizada por um **$**, que é indicador do final da expressão. Estes elementos são ditos âncoras e indicam que a expressão regular, ao avaliar outra string, deve iniciar pelas posições iniciais. \n",
        "\n",
        "Quando estas âncoras não estão presentes na expressão, significa que ela pode ser encontrada em qualquer parte da string.\n",
        "\n",
        "#### Grupos\n",
        "- O **(** e **)** parenteses indica que a expressão ali dentro deverá ser extraída como um sub objeto **group**. Podemos identificar em nossa expressão que ela contém 3 grupos, o que significa que ao encontrar um match, o avaliador irá também extrair os 3 grupos e disponibiliza-los em uma lista. Se estes mesmos grupos estivessem representados por **[** e **]**, eles não seriam extraídos para a lista de grupos.\n",
        "\n",
        "#### Caracter de escape\n",
        "O caracter **\\** é considerado um caracter de escape, ou seja, ele nos auxilia a dar um significado a outro caracter em nossa expressão. \n",
        "\n",
        "Por exemplo, **\\(** que está após o primeiro grupo, significa que o caracter **(** deve estar na string de maneira literal, ou seja, para que exista um match, a nossa string com certeza deve possuir um **(**.\n",
        "\n",
        "Mas nunca é tão simples. Este mesmo caracter **\\** quando em conjunto com alguns caracteres específicos, indicam um padrão de subsituição na expressão regular. Exemplos:\n",
        "- **\\s** significa que naquela posição da expressão é esperado um espaço\n",
        "- **\\S**  significa qualquer caracter que não seja um espaço\n",
        "- **\\w** significa qualquer letra\n",
        "- **\\W** significa qualquer coisa que não seja letra\n",
        "- **\\d** significa qualquer dígito\n",
        "- **\\D** significa qualquer coisa que não seja dígito\n",
        "\n",
        "#### Outros caracteres especiais em uma expressão regular\n",
        "\n",
        "- **.** significa que a expressão faz match de qualquer caracter, sejam letras, números ou pontuações\n",
        "- **+**, quando sucede nossos caracteres especiais, indica que aquele padrão ocorre pelo menos uma vez\n",
        "-  __*__, quando sucede nossos caracteres especiais, indica que aquele padrão pode ocorre muitas vezes ou nenhuma.\n",
        "\n",
        "#### E quando precisamos limitar mais os caracteres permitidos???\n",
        "\n",
        "Se desejamos limitar ainda mais os caracteres que devem fazer parte da nossa expressão, podemos utilizar a nossa lista de caracteres válidos entre **[** e **]**. Vejamos alguns exemplos:\n",
        "- [ab\\-]+ - significa que aceitamos apenas os caracteres a, b e - em qualquer ordem e pelo menos 1 (pelo modificador +)\n",
        "- [a-z]+ - aceitamos apenas letras de a a z minúsculas\n",
        "- [A-Z0-9]+ - aceitamos apenas letras de A a Z maiúsculas e números de 0 a 9\n",
        "\n",
        "### Agora sim, vamos entender aquela expressão lá do início???\n",
        "\n",
        "Quais strings essa expressão regular faz o match???\n",
        "\n",
        "```python\n",
        "regex = r\"^(.+)\\((.+)\\)\\s*\\-*\\s*(.*)$\"\n",
        "```\n",
        "\n",
        "A nossa expressão pega uma string pelo início (**^**), procura por pelo menos um caracter qualquer **(.+)** que será extraído para um grupo. Logo após esta sequência de um ou mais caracteres, deve encontrar um **(**, que deve ser sucedido por outro grupo qualquer de caracteres **(.+)** e que termina ao encontrar o caracter literal **)**.\n",
        "\n",
        "E nossa expressão continua. Após o **)**, procuramos por uma sequência de 0 ou mais espaços em branco **\\s***, sucedidos pelo caracter literal **-** que pode ser sucedido novamente por 0 ou mais espaços em branco **\\s***.\n",
        "\n",
        "Nossa expressão termina esperando mais um grupo qualquer de caracteres **(.+)**, e o fim da string.\n",
        "\n",
        "#### WOW, que explicação!!! Mas o que isso significa mesmo???\n",
        "Significa que a string `João Sousa (jsousa@dell.com) - Dell` é reconhecida pela expressão regular, que retorna 3 grupos: nome, email e empresa.\n",
        "\n",
        "Já a string `Jose Silva [jose_silva@dell.com] Dell Technologies` não é reconhecida, porque partes da expressão regular não batem com nossa string.\n"
      ],
      "metadata": {
        "id": "RCzYkRM-BPXm"
      }
    },
    {
      "cell_type": "markdown",
      "source": [
        "## Pondo em Prática"
      ],
      "metadata": {
        "id": "WNreqfjcWRPO"
      }
    },
    {
      "cell_type": "markdown",
      "source": [
        "Agora vamos ver um exemplo básico de como utilizar expressões regulares: validação de dados. O código abaixo valida uma lista de e-mails para verificar se todos eles são válidos. Execute o código para ver funcionando e adicione ou mude valores na lista e execute novamente para ver como ele funciona!"
      ],
      "metadata": {
        "id": "uMJk_rNhWilo"
      }
    },
    {
      "cell_type": "code",
      "source": [
        "import re # importando a biblioteca de expressões regulares\n",
        "\n",
        "lista_emails = [\"joao@gmail.com\", \"jose.silva@gmail.com\", \"maria_alcantara#gmail.com\", \"@joao@gmail.com\"] # nossa lista de emails a serem validados\n",
        "\n",
        "expressao_regular = r\"^[A-Za-z0-9._%+-]+@[A-Za-z0-9.-]+\\.[A-Z|a-z]{2,}$\" # a expressao regular\n",
        "\n",
        "for email in lista_emails:\n",
        "  match = re.match(expressao_regular, email)\n",
        "  if match:\n",
        "    print(f\"O email {email} é válido!\")\n",
        "  else:\n",
        "    print(f\"O email {email} não é válido!\")"
      ],
      "metadata": {
        "id": "R_WSJ7PMXNu-",
        "outputId": "e48edfd0-2f2b-4770-bb33-1ce03ca12c88",
        "colab": {
          "base_uri": "https://localhost:8080/"
        }
      },
      "execution_count": 2,
      "outputs": [
        {
          "output_type": "stream",
          "name": "stdout",
          "text": [
            "O email joao@gmail.com é válido!\n",
            "O email jose.silva@gmail.com é válido!\n",
            "O email maria_alcantara#gmail.com não é válido!\n",
            "O email @joao@gmail.com não é válido!\n"
          ]
        }
      ]
    },
    {
      "cell_type": "markdown",
      "source": [
        "# **Exercício**: Agora é hora de você testar seus conhecimentos!"
      ],
      "metadata": {
        "id": "mhtXZ_GMbrZs"
      }
    },
    {
      "cell_type": "markdown",
      "source": [
        "Seguindo o nosso exemplo acima, temos um desafio para você: queremos que você escreva uma expressão regular para validar o formato de um CPF! Temos nossa lista de CPFs que foram preenchidos em um site, e queremos saber se eles têm o formato correto. Apenas complete o código abaixo com a expressão regular!"
      ],
      "metadata": {
        "id": "AZVc1e_1bx4M"
      }
    },
    {
      "cell_type": "code",
      "source": [
        "import re # importando a biblioteca de expressões regulares\n",
        "\n",
        "lista_cpfs = [\"923.343.000-00\", \"923343z00-00\", \"067.234.060-70\", \"656-203-0009-0\"] # lista de CPFs\n",
        "\n",
        "expressao_regular = r\"\" # preencha sua expressão regular aqui\n",
        "\n",
        "for cpf in lista_cpfs:\n",
        "  match = re.match(expressao_regular, cpf)\n",
        "  if match:\n",
        "    print(f\"O CPF {cpf} tem o formato correto!\")\n",
        "  else:\n",
        "    print(f\"O CPF {cpf} não tem o formato correto!\")\n"
      ],
      "metadata": {
        "id": "XC7jWr-Bchaz"
      },
      "execution_count": null,
      "outputs": []
    },
    {
      "cell_type": "markdown",
      "source": [
        "# Quer Aprender Mais???"
      ],
      "metadata": {
        "id": "o7zvCtqSM4ja"
      }
    },
    {
      "cell_type": "markdown",
      "source": [
        "Gostou de expressões regulares? Quer aprender mais? \n",
        "\n",
        "Então, segue os links abaixo e bons estudos!!!\n",
        "\n",
        "- [Regex101 - Ferramenta para testar expressões regulares](https://regex101.com/)\n",
        "- [DevMedia - Sintaxes Básica em Expressões Regulares](https://www.devmedia.com.br/iniciando-expressoes-regulares/6557)\n",
        "- [Mozilla Docs - Expressões Regulares](https://developer.mozilla.org/pt-BR/docs/Web/JavaScript/Guide/Regular_Expressions)"
      ],
      "metadata": {
        "id": "Cd-iTgCFM8h5"
      }
    }
  ]
}