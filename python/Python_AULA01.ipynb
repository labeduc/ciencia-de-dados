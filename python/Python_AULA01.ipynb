{
  "nbformat": 4,
  "nbformat_minor": 0,
  "metadata": {
    "colab": {
      "provenance": [],
      "collapsed_sections": [
        "lLhvZl7VhF0G",
        "S-P6_EpNxkA1"
      ],
      "toc_visible": true
    },
    "kernelspec": {
      "name": "python3",
      "display_name": "Python 3"
    }
  },
  "cells": [
    {
      "cell_type": "markdown",
      "metadata": {
        "id": "DdZalxcMkhJo"
      },
      "source": [
        "# Python - Aula 01 - Introdução"
      ]
    },
    {
      "cell_type": "markdown",
      "metadata": {
        "id": "q_OupAemkucl"
      },
      "source": [
        "## O que é python\n",
        "\n",
        "Python é uma linguagem interpretada, multiplataforma. Isto é, Python pode ser executado em vários tipos de plataformas, como Windows, macOS, Linux e tem sido portado também para dispositivos.\n",
        "\n",
        "A linguagem python é livre (free) e de código aberto.\n",
        "\n",
        "\n",
        "\n",
        "\n"
      ]
    },
    {
      "cell_type": "markdown",
      "metadata": {
        "id": "2CoO2vYdd42q"
      },
      "source": [
        "## Plataformas de desenvolvimento\n",
        "\n",
        "Boa parte das plataformas possuem Python instalados naturalmente, por exemplo Linux e macOS já vem de fábrica.  Para instalar no Windows basta baixar o interpretador do site de seus mantenedores [Python.org](https://www.python.org/downloads/).\n",
        "\n",
        "Existem plataformas integradas com o Python que valem a pena (no escopo desse curso) baixar, por exemplo:\n",
        "  - [Thonny IDE](https://thonny.org/)\n",
        "  - Programiz: [Android](https://play.google.com/store/apps/details?id=com.programiz.learnpython&referrer=utm_campaign%3Dprogramiz-homepage%26utm_source%3Dprogramiz-website-python-app-popup); [iPhone](https://apps.apple.com/app/apple-store/id1472188189?pt=120228772&ct=programiz-homepage&mt=8)\n",
        "  - [REPL](https://repl.it/languages/python3)\n",
        "  - [KataCoda](https://www.katacoda.com/courses/python/playground)\n",
        "\n",
        "Quem já estiver acostumado e quiser sentir um ar profissional, também poderá escolher e usar estes também\n",
        "  - VSCode\n",
        "  - PyCharm\n",
        "\n",
        "Dentre tantos.\n",
        "\n",
        "Para fins de curso, vamos utilizar um mix de exercícios aqui, neste notebook, e eventualmente nas plataformas que se sentirem confortáveis.\n",
        "\n",
        "Existem plataformas de \"Gamificação\" do aprendizado Python, você pode conferir aqui:\n",
        "  - [CheckiO](https://py.checkio.org/)\n",
        "  - [CodeCombat](https://br.codecombat.com/play/dungeon)\n"
      ]
    },
    {
      "cell_type": "markdown",
      "metadata": {
        "id": "1N0KeTMm6fbM"
      },
      "source": [
        "## Executando um programa em Python\n",
        "\n",
        "Ao contrário do que vimos em Lógica de Programação, executar um programa em Python requer um interpretador Python instalado na máquina.\n",
        "\n",
        "Os arquivos de programas Python terminam com a extensão **.py**; por exemplo: meu_nome.py\n",
        "\n",
        "Neste ambiente vamos usar os interpretadores internos do colab.\n",
        "\n",
        "Vamos brincar um pouco com o Python neste ambiente:\n"
      ]
    },
    {
      "cell_type": "code",
      "metadata": {
        "id": "5vQYxY_j5s0l",
        "colab": {
          "base_uri": "https://localhost:8080/"
        },
        "outputId": "0ea762fd-e8c4-421f-9e26-b512409dd1d6"
      },
      "source": [
        "# este programa resolve expressões matemáticas\n",
        "# use + - * /\n",
        "1 + 1"
      ],
      "execution_count": null,
      "outputs": [
        {
          "output_type": "execute_result",
          "data": {
            "text/plain": [
              "2"
            ]
          },
          "metadata": {},
          "execution_count": 1
        }
      ]
    },
    {
      "cell_type": "markdown",
      "metadata": {
        "id": "h4JD6_6Y7L1k"
      },
      "source": [
        "# Fundamentos de Python\n"
      ]
    },
    {
      "cell_type": "markdown",
      "metadata": {
        "id": "9Mg1jNaO9SIc"
      },
      "source": [
        "Antes de iniciar qualquer trabalho especial com Python, é bom passarmos alguns fundamentos sobre o seu funcionamento"
      ]
    },
    {
      "cell_type": "markdown",
      "metadata": {
        "id": "OMzzib0o74l6"
      },
      "source": [
        "\n",
        "## Comentários\n",
        "\n",
        "Comentários são marcas importantes num código, pois um bom programador precisa documentar o questá sendo feito ou deixar ali uma marca para que outras pessoas possam entender\n",
        "\n",
        "Comentários em python são feitos com o sinal \\#\n",
        "\n",
        "por exemplo:"
      ]
    },
    {
      "cell_type": "code",
      "metadata": {
        "id": "BMH_DoZe8xsu"
      },
      "source": [
        "# Este é um comentário. Isso significa que tudo o que está escrito aqui\n",
        "# será ignorado pelo python e só fará sentido pra quem ler isso."
      ],
      "execution_count": null,
      "outputs": []
    },
    {
      "cell_type": "markdown",
      "metadata": {
        "id": "ygHsXm568__O"
      },
      "source": [
        "Tente executar o programa acima. E vai ver que o python não faz nada! Idêntico ao exemplo da execução de um programa python. Comentários são prontamente ignorados"
      ]
    },
    {
      "cell_type": "markdown",
      "metadata": {
        "id": "y4C16xC7DK05"
      },
      "source": [
        "## Variáveis\n",
        "\n",
        "É a identificação de uma região de memória por um nome. Uma variável armazena temporariamente valores para serem usados ao longo de um programa.\n",
        "\n",
        "![image.png](data:image/png;base64,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)\n",
        "\n",
        "Declarar e usar uma váriável é muito simples"
      ]
    },
    {
      "cell_type": "code",
      "metadata": {
        "id": "T1ccuwwuDnK7",
        "colab": {
          "base_uri": "https://localhost:8080/"
        },
        "outputId": "a2f065f8-23c5-4382-83e0-dda7ecca636f"
      },
      "source": [
        "# crio as variáveis 1 e 2 com dados\n",
        "variavel1=\"esta frase\"\n",
        "variavel2=5\n",
        "\n",
        "# para usar os dados armazenados, basta acessar pelos nomes\n",
        "print(variavel1, variavel2, \"vezes\")\n"
      ],
      "execution_count": null,
      "outputs": [
        {
          "output_type": "stream",
          "name": "stdout",
          "text": [
            "esta frase 5 vezes\n"
          ]
        }
      ]
    },
    {
      "cell_type": "markdown",
      "metadata": {
        "id": "Ta22oU-077Mu"
      },
      "source": [
        "\n",
        "## Strings\n",
        "\n",
        "De cara vamos aprender uma estrutura de dados. Strings. String representa uma sequencia de caracteres que tem propriedades interessantes.\n",
        "\n",
        "A forma básica de uma string é encerrar uma sequencia de caracteres. E distinguir do que possa ser uma váriável ou um dado.\n",
        "\n",
        "Vamos para o seguinte exemplo:"
      ]
    },
    {
      "cell_type": "code",
      "metadata": {
        "id": "vpa2-4pJC427",
        "colab": {
          "base_uri": "https://localhost:8080/"
        },
        "outputId": "c6835597-c1ed-4e2b-c719-ad6e95d2924e"
      },
      "source": [
        "# Já vimos no exemplo anterior como declarar e usar uma variável.\n",
        "# criei uma variavel chamado palavra com o dado \"palavra\"\n",
        "palavra=\"palavra\"\n",
        "print(palavra)\n",
        "\n",
        "# Python tem a forma abaixo usando aspas simples para declarar strings tambem\n",
        "frase='esta é uma outra forma de declarar strings'\n",
        "print(frase)\n",
        "\n",
        "# mesmo assim, não satisfeito, há a necessidade de uma string multilinha\n",
        "texto='''\n",
        "Rodou o mundo, indo sempre ao leste.\n",
        "Fez questão de nunca errar a latitude no seu GPS.\n",
        "Compensava meticulosamente a rota tomando referências precisas da sua última posição.\n",
        "Vigiava as estrelas e a pequena bússola, Mas nunca atingiu a borda do mundo\n",
        "Tolo. Voltou paro mesmo ponto. A terra é redonda!\n",
        "'''\n",
        "frase2=\"frase 'dentro' de frase\"\n",
        "print(palavra)\n",
        "print(frase2)\n",
        "print(texto)"
      ],
      "execution_count": null,
      "outputs": [
        {
          "output_type": "stream",
          "name": "stdout",
          "text": [
            "palavra\n",
            "esta é uma outra forma de declarar strings\n",
            "palavra\n",
            "frase 'dentro' de frase\n",
            "\n",
            "Rodou o mundo, indo sempre ao leste.\n",
            "Fez questão de nunca errar a latitude no seu GPS. \n",
            "Compensava meticulosamente a rota tomando referências precisas da sua última posição.\n",
            "Vigiava as estrelas e a pequena bússola, Mas nunca atingiu a borda do mundo\n",
            "Tolo. Voltou paro mesmo ponto. A terra é redonda!\n",
            "\n"
          ]
        }
      ]
    },
    {
      "cell_type": "markdown",
      "metadata": {
        "id": "uX6z_YCd7-Y0"
      },
      "source": [
        "\n",
        "## Escrevendo e Capturando dados do usuário\n",
        "\n",
        "### print - escrevendo dados\n",
        "\n",
        "*print* é o comando geral para imprimir dados, sentenças, o que for para o usuário. a sintaxe mais simples é invocar passando o que precisa ser escrito como seu argumento\n",
        "\n",
        "![image.png](data:image/png;base64,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)\n",
        "\n",
        "Tem outras formas? Tem, mas não é importante agora!\n"
      ]
    },
    {
      "cell_type": "code",
      "metadata": {
        "id": "JDHGPOkNN4KQ"
      },
      "source": [
        "print(\"Olá\")"
      ],
      "execution_count": null,
      "outputs": []
    },
    {
      "cell_type": "markdown",
      "metadata": {
        "id": "_Fo6R1-aRGYE"
      },
      "source": [
        "## input - lendo dados do usuário\n",
        "\n",
        "*input* é o comando certo. Ele permite informar o usuário da leitura, através de um \"prompt\". Ele retorna o valor lido do usuário.\n",
        "\n",
        "![image.png](data:image/png;base64,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)\n",
        "\n"
      ]
    },
    {
      "cell_type": "code",
      "metadata": {
        "id": "L5PUGYUiSbrq"
      },
      "source": [
        "resposta=input(\"Qual o seu nome?\")\n",
        "print(resposta)"
      ],
      "execution_count": null,
      "outputs": []
    },
    {
      "cell_type": "markdown",
      "metadata": {
        "id": "cO__SkNvZ4LQ"
      },
      "source": [
        "Ao contrário do que o scratch faz, o python sempre retorna uma string. Se precisar de ler um numero. Tem que apelar para a conversão de dados, por exemplo:"
      ]
    },
    {
      "cell_type": "code",
      "metadata": {
        "id": "qw9rrE-SaYao"
      },
      "source": [
        "num=input(\"digite um numero\");\n",
        "dobro=int(num)*2;\n",
        "print(dobro)"
      ],
      "execution_count": null,
      "outputs": []
    },
    {
      "cell_type": "markdown",
      "metadata": {
        "id": "KBPP29aWanEh"
      },
      "source": [
        "**int()** é a função que converte string em numero inteiro."
      ]
    },
    {
      "cell_type": "markdown",
      "metadata": {
        "id": "QF-SGn9_9i0a"
      },
      "source": [
        "## Indentação e blocos de código\n",
        "\n",
        "Python nasceu para ser prontamente entendido. Existe uma fluidez na leitura de um código Python, onde o usuário pode sem se perder (na maioria dos casos) identificar um código python e saber o que faz. Vamos tomar  como exemplo este programa:"
      ]
    },
    {
      "cell_type": "code",
      "metadata": {
        "id": "0rRa0ydM96Ws"
      },
      "source": [
        "# este programa list os numeros de 1 a 9 e 9 a 1 em linhas diferentes\n",
        "for i in range(1,10):\n",
        "  print (\" --> \", i)\n",
        "  print (\" <-- \", 10-i)\n",
        "\n",
        "print(\"acabou\")"
      ],
      "execution_count": null,
      "outputs": []
    },
    {
      "cell_type": "markdown",
      "metadata": {
        "id": "xWXoZFeA-dZ0"
      },
      "source": [
        "Observe que há 1 ou 2 espaços no inicio dos comandos depois da primeira linha.\n",
        "Porque?\n",
        "\n",
        "É muito simples. Esse espaço se chama **INDENTAÇÂO** e é importante para marcar a sequência de um programa em Python e assim mesmo agrupar a lógica em um conceito de bloco comandos.\n",
        "\n",
        "Remova os espaços de uma das duas linhas e veja o que acontece? Na marioria dos casos, pode acontecer um erro. Em outros casos um mal funcionamento\n",
        "\n",
        "No scrach, você pode ver esse conceito nas lacunas para inserir comandos dentro de um bloco.\n",
        "![image.png](data:image/png;base64,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)"
      ]
    },
    {
      "cell_type": "markdown",
      "metadata": {
        "id": "ASt16kwr8CR8"
      },
      "source": [
        "\n",
        "## EXERCÍCIO - Meu primeiro programa\n",
        "\n",
        "Neste capítulo tivemos informações suficientes para escrever um pequeno programa. Você poderá fazer esse programa em qualquer editor Python:\n",
        "- [REPL](https://repl.it/languages/python3)\n",
        "- [KataCoda](https://www.katacoda.com/courses/python/playground)\n",
        "\n",
        "ou aqui mesmo: Escreva o seu código nas àreas destinadas ao exercício\n"
      ]
    },
    {
      "cell_type": "code",
      "metadata": {
        "id": "7Zia9UE4ZWLs"
      },
      "source": [
        "# escreva abaixo um programa que leia o nome, leia a idade\n",
        "# calcule o ano em que a pessoa nasceu\n",
        "# escreva na tela: fulano, você nasceu em xxxx\n",
        "# dica: a idade precisa ser convertida para numero.\n"
      ],
      "execution_count": null,
      "outputs": []
    },
    {
      "cell_type": "code",
      "metadata": {
        "id": "Bnyo0g7Be1RZ"
      },
      "source": [
        "# O programa abaixo está mal indentado. e está dando um erro\n",
        "# Preciso que ele escreva o numero, seu quadrado e seu cubo em uma linha\n",
        "# e por fim escreva (\"fim\") uma unica vez;\n",
        "print(\"X\", \"X^2\", \"X^3\")\n",
        "for i in range(1,5):\n",
        " print(i, i*i, i*i*i)\n",
        " print(\"fim\")\n"
      ],
      "execution_count": null,
      "outputs": []
    }
  ]
}