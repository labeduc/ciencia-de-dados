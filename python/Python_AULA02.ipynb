{
  "nbformat": 4,
  "nbformat_minor": 0,
  "metadata": {
    "colab": {
      "provenance": [],
      "toc_visible": true,
      "include_colab_link": true
    },
    "kernelspec": {
      "name": "python3",
      "display_name": "Python 3"
    }
  },
  "cells": [
    {
      "cell_type": "markdown",
      "metadata": {
        "id": "view-in-github",
        "colab_type": "text"
      },
      "source": [
        "<a href=\"https://colab.research.google.com/github/labeduc/ciencia-de-dados/blob/main/python/Python_AULA02.ipynb\" target=\"_parent\"><img src=\"https://colab.research.google.com/assets/colab-badge.svg\" alt=\"Open In Colab\"/></a>"
      ]
    },
    {
      "cell_type": "markdown",
      "metadata": {
        "id": "0MObsnH2rkZP"
      },
      "source": [
        "# Tipos Básicos, Operações e Expressões\n",
        "\n",
        "Como toda linguagem de programação, o Pyhton traz um bom conjunto de operações e expressões. Além de suporte a tipos de dados especializados.\n"
      ]
    },
    {
      "cell_type": "markdown",
      "metadata": {
        "id": "7gSx1fY0uf_2"
      },
      "source": [
        "## Tipos\n",
        "Vamos introduzir aqui um novo conceito: a tipagem.\n",
        "\n",
        "Normalmente a gente trata cada tipo de informação de forma diferente. E quando ela vem de forma genérica, de um jeito ou de outro a gente tem que ser mais específicos. Isto é, procurar entender o seu \"modelo\" para tratar da forma correta.\n",
        "\n",
        "Em computação as coisas funcionam da mesma forma. Apesar de tudo ser armazenado em 0 e 1. Ainda sim é necessário fazer uma diferenciação para entendermos a natureza daquele dado. Vida real: faz sentido elevar uma palavra ao quadrado? __\"abacate\" x \"abacate\" = ?__ Não, não faz sentido!\n",
        "\n",
        "Basicamente Python define 3 tipos básicos\n",
        "  - **strings** ou literais: representam cadeias de caracteres, fácil de identificar pois são aqueles termos que estão limitados por aspas ou aspas duplas.\n",
        "  - **números** que se dividem em inteiros (int), de ponto flutuante (float) ou complexos (complex). Por exemplo 1023, 75.02, 2E-05, são exemplos de números válidos;\n",
        "  - **Lógico** que são os tipos booleanos (bool); True, False. Denotam o tipo de dado que representa um valor Verdadeiro ou Falso.\n",
        "\n",
        "Ressaltando esses são os tipos básicos! Tem muitos outros. Mas serão discutidos no seu tempo.\n",
        "\n",
        "Vamos brincar com tipos..."
      ]
    },
    {
      "cell_type": "code",
      "metadata": {
        "id": "4R7IbATYwPiz"
      },
      "source": [
        "# o tipo string já trabalhamos nos fundamentos. Vamos para números\n",
        "# as representações abaixo são tipos numéricos válidos, representam o valor 10\n",
        "\n",
        "# inteiro\n",
        "num1=10\n",
        "# ponto flutuante\n",
        "num2=10.0\n",
        "# ponto flutuante com notação cientifica E siginfica 10 Elevado a\n",
        "num3=1E1\n",
        "# número complexo é um numero com uma notação diferente. É usado em modelos\n",
        "# científicos. RARAMENTE é visto em computação comercial ou em ciência dos dados.\n",
        "num4=5+6j\n",
        "\n",
        "\n",
        "print(num1, num2, num3, num4)\n",
        "\n",
        "print(type(num1),type(num2),type(num3), type(num4))"
      ],
      "execution_count": null,
      "outputs": []
    },
    {
      "cell_type": "markdown",
      "metadata": {
        "id": "eZObyzxexGXv"
      },
      "source": [
        "o comando **type()** identifica o tipo correto da variável.\n",
        "\n",
        "Como eu disse no inicio, quando iremos usar um tipo ou outro depende da natureza do problema. Por exemplo, unidades discretas, isto é, unidades que descrevem contagem: um, dois, mil... prefere-se usar inteiros. Exemplo: idade, numero de pessoas;\n",
        "\n",
        "Ponto flutuante é o que damos nome para os numeros REAIS. Quantidades fracionadas ou irracionais: 2.5; 3.14152;\n",
        "\n",
        "Vamos brincar com booleandos ou lógicos"
      ]
    },
    {
      "cell_type": "code",
      "metadata": {
        "id": "5hFioHujxoZZ"
      },
      "source": [
        "verdadeiro=True\n",
        "falso=False\n",
        "\n",
        "print(type(verdadeiro), type(falso))"
      ],
      "execution_count": null,
      "outputs": []
    },
    {
      "cell_type": "markdown",
      "metadata": {
        "id": "Dip6CtILyv7h"
      },
      "source": [
        "Nada de novo até aqui...\n",
        "\n",
        "O tipo do dado nos dá uma dica de como converter. Num dos exercicios da seção de Fundamentos era justamente calcular o ano que a pessoa nasceu.\n",
        "\n",
        "O comando input sempre devolve uma string, certo? se preciso fazer um cálculo, vou precisar de um número. Por isso vou precisar converter. A coversão, na maior dos casos é feita pelo nome do tipo: int(), float(), bool(). Há casos que isso não vai funcionar... mas, uma regra torta é melhor que regra nenhuma."
      ]
    },
    {
      "cell_type": "code",
      "metadata": {
        "id": "a6j4mx8nzkhH"
      },
      "source": [
        "# experimentando conversões\n",
        "x=input(\"Digite um numero:\")\n",
        "\n",
        "intX=int(x)\n",
        "floatX=float(x)\n",
        "boolX=bool(x)\n",
        "\n",
        "print(x, intX, floatX, boolX)\n",
        "\n",
        "# convertendo de inteiro para outros tipos\n",
        "stringX=str(intX)\n",
        "floatX=float(intX)\n",
        "boolX=bool(intX)\n",
        "\n",
        "print(intX, stringX, floatX, boolX)\n"
      ],
      "execution_count": null,
      "outputs": []
    },
    {
      "cell_type": "markdown",
      "metadata": {
        "id": "C_M5JnHq1NlU"
      },
      "source": [
        "Interessante! :) Já tentou rodar o exercicio anterior, passando um 0 (zéro) no lugar?"
      ]
    },
    {
      "cell_type": "markdown",
      "metadata": {
        "id": "ZwoUjjB51hyy"
      },
      "source": [
        "### EXERCÍCIO - bool(\"0\") e bool(0)???\n",
        "\n",
        "Quero que pesquisem porque valores tão diferentes se eles são 0?"
      ]
    },
    {
      "cell_type": "code",
      "metadata": {
        "id": "j0GRV5kJ1y-8",
        "colab": {
          "base_uri": "https://localhost:8080/"
        },
        "outputId": "47089041-695f-4de3-bfa9-f34f78105a96"
      },
      "source": [
        "boolStr0=bool(\"0\")\n",
        "boolInt0=bool(0)\n",
        "\n",
        "print(boolStr0, boolInt0)\n",
        "\n",
        "boolTeste= 0==0\n",
        "print(boolTeste)"
      ],
      "execution_count": null,
      "outputs": [
        {
          "output_type": "stream",
          "name": "stdout",
          "text": [
            "True False\n",
            "True\n"
          ]
        }
      ]
    },
    {
      "cell_type": "code",
      "metadata": {
        "id": "LY4nanHPSy-v"
      },
      "source": [],
      "execution_count": null,
      "outputs": []
    },
    {
      "cell_type": "markdown",
      "metadata": {
        "id": "ib9eSX8o0ey3"
      },
      "source": [
        "# Operações e Expressões\n",
        "\n",
        "Se recaptularmos tudo que vimos até agora, já sabemos:\n",
        "\n",
        "\n",
        "1.  declarar uma variável: *var=*\n",
        "2.  ler dados *input()*\n",
        "3.  escrever dados *print()*\n",
        "4.  converter dados (string->número->string)\n",
        "\n",
        "Vamos aprender nesse capítulo um elemento importante da programação: a elaboração de expressões.\n",
        "\n",
        "As expressões são partes fundamentais da computação. Originalmente computadores nasceram para fazer cálculos. Então otimizar uma linguagem de programação para fazer cálculos e permitir com que programadores pudessem descrever melhor uma fórmula matemática ou uma expressão era a coisa mais importante.\n",
        "\n",
        "Expressão é uma organização sistemática de operadores e seus argumentos que permitem descrever um aspecto da lógica.\n",
        "\n",
        "A melhor forma de entender expressões é olhar para a matemática. Ali temos um sistema de operadores/operações: adicionar, subtrair , multiplicar, dividir, etc... e uma fórmula é a descrição de uma expressão.\n",
        "\n",
        "![image.png](data:image/png;base64,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)\n",
        "\n",
        "Olha que interessante. Dessa forma podems quebrar a fórmula acima, em algo programável:\n",
        "- a,b,c são variáveis que preciso fornecer. São os coeficientes de uma equação de 2o grau.\n",
        "- 2, 4, são números. Constantes parte da fórmula\n",
        "- a raiz quadrada, é uma operação à parte. Feita por uma função\n",
        "- a potenciação, também uma operação.\n",
        "- +; -; /; * as operações adicionar, subtrair, dividir, multiplicar.\n",
        "- x é o nosso resultado. Estou atribuindo a x (variável) o resultado da operação.\n",
        "\n",
        "Simples assim!\n",
        "\n",
        "Bom, vamos por partes. Vamos ver em particular cada conjunto de operações."
      ]
    },
    {
      "cell_type": "markdown",
      "metadata": {
        "id": "G9LMLEvP2MYN"
      },
      "source": [
        "## Operações e Expressões - Operadores Matemáticos\n",
        "\n",
        "Vimos em Fundamentos de Lógica de Programação um conjunto de operações matemáticas, operadores de comparação e alguns operadores lógicos ou booleanos. Vamos recaptular:\n",
        "\n",
        "**Operação**|**Tipo**|**Descrição**| **Exemplo**\n",
        "------------|--------|-------------|-------------\n",
        "+|matemático|Adiciona dois números| 2+4\n",
        "-|matemático|Subtrai dois números| 8-2\n",
        "\\*|matemático|Multiplica dois números|6\\*6\n",
        "/|matemático|divide dois números| 18/3 *(=6.0)*\n",
        "\\*\\*| matemático| eleva X à potência Y| 10**3\n",
        "//|matemático|divide dois numeros (divisão inteira)| 19/3 *(=6)*\n",
        "% | matemático| resto da divisão (divisão inteira) | 19/3 *(=1)*\n",
        "- | matemático| inverte o sinal de um numero | x=3; print(-x) *(=-3)*\n",
        "\n",
        "\n",
        "\n"
      ]
    },
    {
      "cell_type": "code",
      "metadata": {
        "id": "aiDieHVuNN5l"
      },
      "source": [
        "# exemplos de expressões\n",
        "print(2-3*4)\n",
        "\n",
        "# usando algumas variáveis.\n",
        "a=10\n",
        "b=20\n",
        "x=10*a+20*b\n",
        "print(x)\n",
        "\n"
      ],
      "execution_count": null,
      "outputs": []
    },
    {
      "cell_type": "markdown",
      "metadata": {
        "id": "oCXMhlIz77Jo"
      },
      "source": [
        "## Operações e Expressões - Operadores Relacionais\n",
        "\n",
        "Vamos para os operadores relacionais. Isto é, operadores que estabelecem uma comparação entre 2 valores.\n",
        "\n",
        "O resultado de uma operação relacional é sempre um lógico, atestando se a comparação é verdadeira ou falsa.\n",
        "\n",
        "**Operação**|**Descrição**|**Exemplo**\n",
        "-|-|-\n",
        "==|compara se 2 valores são identicos| x==y\n",
        "!=|compara se 2 valores são diferentes| x!=y\n",
        "\\> | compara se um valor é maior que outro| x\\>y\n",
        "\\>=| compara se um valor é maior ou igual a outro| x\\>=y\n",
        "\\< | o mesmo, porém se menor| x\\<y\n",
        "\\<=| o mesmo, porém se menor ou igual| x\\<=y\n",
        "\n",
        "Observe que no Scratch só temos apenas 3 operadores: =, > e <.\n",
        "\n",
        "Uma coisa interessante é comparar se um determinado número, está em uma faixa de valores. Lembra que no scratch, tinhas que testar se tal número era maior que o limite inferior E menor que o limite superior.\n",
        "\n",
        "Np python podemos escrever de forma elegante:\n",
        "```a<x<b```\n",
        "isto é, testar se X está entre os valores a e b. Vamos ver isso no exercicio abaixo.\n"
      ]
    },
    {
      "cell_type": "code",
      "metadata": {
        "id": "ljzuh1RCjBC0"
      },
      "source": [
        "# Vamos testar algumas algumas comparações\n",
        "print(2==3)\n",
        "print(5!=2)\n",
        "print(7>0)\n",
        "\n",
        "# com algumas variáveis...\n",
        "a=2\n",
        "b=10\n",
        "\n",
        "x=3.14\n",
        "# vamos testar se 3.14 está entre 2 e 10.\n",
        "print(a < x < b)\n",
        "\n"
      ],
      "execution_count": null,
      "outputs": []
    },
    {
      "cell_type": "markdown",
      "metadata": {
        "id": "ruvJWYrW_fU-"
      },
      "source": [
        "## Operações e Expressões - Operadores booleanos\n",
        "Agora chegou a vez dos booleanos. São operadores que fazem o conjunto de operações sobre a lógica. Tem um outro nome para esses operadores, tal como *conectivo* e a função dos operadores booleanos é realmente conectar 2 ou mais outras expressões que possam retornar um valor lógico somente.\n",
        "\n",
        "Por exemplo: a abertura de uma cancela de um pedágio está condicionado a uma série de requerimentos:\n",
        "- se há carro na cancela; **e**\n",
        "- se houve o pagamento da tarifa; **ou**\n",
        "- há crédito no cartão pedágio\n",
        "\n",
        "Veja que são exemplos simples do dia a dia, e o resultado é um simples \"SIM\" ou \"NÃO\".\n",
        "\n",
        "Esses operadores tem vida própria, isto é respondem à uma lógica bem estabelecida que pode parecer estranho na primeira vez.\n",
        "\n",
        "**Operação**|**Descrição**|**Exemplo**\n",
        "-|-|-\n",
        "&|Operação \"e\" avalia se os dois operandos são verdadeiros| a & b\n",
        "\\||Operação \"ou\" avalia se um dos operandos é verdadeiro| a \\| b\n",
        "^|ou-exclusivo. Isto é, avalia se ambos operandos são diferentes| a ^ b\n",
        "not | nega uma expressão | not True *(=False)*\n",
        "\n",
        "O operador ovo aqui é o \"ou-exclusivo\". Ele testa se ambos os lados da equação são diferentes. Um exemplo da vida real são os benefícios do governo, **ou** voce recebe um **ou** recebe outro; mas nunca os 2.\n",
        "\n",
        "\n",
        "Vamos reservar esses operadores para os comandos futuros. Vamos precisar disso tudo"
      ]
    },
    {
      "cell_type": "markdown",
      "metadata": {
        "id": "viNcXOaPpVJL"
      },
      "source": [
        "## Parênteses\n",
        "\n",
        "Parênteses é um elemento importante da expressão. É um elemento de sintaxe quase que plural. Serve para organizar expressões, delimitar argumentos de funções, elementos de listas (tuplas). Vamos nos concentrar no primeiro aspecto: organizar expressões.\n",
        "\n",
        "A organização das expressões é uma necessidade da lógica. Ter uma expressão encerrada por parênteses, garante à expressão prioridade na resolução. Não é prioridade de execução. Mas resolução da expressão. Por exemplo, se uma expressão tiver uma sub-expressão com parênteses, a sub-expressão será resolvida primeiro. Vamos para exemplos práticos.\n"
      ]
    },
    {
      "cell_type": "code",
      "metadata": {
        "id": "hJmPav9srLKL"
      },
      "source": [
        "x=3-4*3\n",
        "y=(3-4)*3\n",
        "z=(x**2+(y-34))\n",
        "\n",
        "print(x, y, z)"
      ],
      "execution_count": null,
      "outputs": []
    },
    {
      "cell_type": "markdown",
      "metadata": {
        "id": "ck1Yu3uWrsB5"
      },
      "source": [
        "Apesar das expressões em \"x\" e \"y\" serem parecidas, a posição dos parenteses faz com que a sequencia de resolução fique diferente. Portanto resultados diferentes."
      ]
    },
    {
      "cell_type": "markdown",
      "metadata": {
        "id": "bo3CPuIumhJ8"
      },
      "source": [
        "## EXERCÍCIO COMBINADO - EXPRESSÕES\n",
        "\n",
        "O exercício abaixo precisa de uma ajudinha. Leia atentamente o que cada linha faz. Nos comentários, vai haver dicas de como fazer o programa funcionar. Ela implementa a fórmula apresentada na introdução do tópico de expressões.\n",
        "\n",
        "Consegue?"
      ]
    },
    {
      "cell_type": "code",
      "metadata": {
        "id": "uSZ289LGR0Fp"
      },
      "source": [
        "# importando a biblioteca de funções matemáticas\n",
        "import math\n",
        "\n",
        "a=input(\"Valor do coeficiente a:\")\n",
        "b=input(\"Valor do coeficiente b:\")\n",
        "c=input(\"Valor do coeficiente c:\")\n",
        "\n",
        "# a primeira coisa a ser feita, é resolver o delta da equação\n",
        "# crie uma expressão que calcule o delta = (quadrado de b - 4 * a *c)\n",
        "#\n",
        "delta=<expressão aqui>\n",
        "\n",
        "# agora é verificar se a equação é resolvível ou não\n",
        "# se delta < 0, imprimir \"não tem solução\"\n",
        "if (delta<0):\n",
        "  print(<mensagem aqui>)\n",
        "# senão se delta = 0, só existe uma única solução\n",
        "elif(delta==0):\n",
        "  # então a solução é -b/(2 * a)\n",
        "  x= -b/(2*a)\n",
        "  # imprimir a solução\n",
        "  print (<mensagem aqui>, x)\n",
        "else:\n",
        "  # senão a equação possui 2 soluções distintas\n",
        "  raiz_de_delta=math.sqrt(delta)\n",
        "  # a primeira solução x1 é calculada como (-b + raiz_de_delta)/(2*a)\n",
        "  # a segunda solução x2 é calculada como (-b - raiz_de_delta)/(2*a)\n",
        "  print(\"As raízes são:\", x1, \"e\",x2)\n"
      ],
      "execution_count": null,
      "outputs": []
    }
  ]
}