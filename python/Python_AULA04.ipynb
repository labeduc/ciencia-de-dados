{
  "nbformat": 4,
  "nbformat_minor": 0,
  "metadata": {
    "colab": {
      "provenance": [],
      "toc_visible": true,
      "include_colab_link": true
    },
    "kernelspec": {
      "name": "python3",
      "display_name": "Python 3"
    }
  },
  "cells": [
    {
      "cell_type": "markdown",
      "metadata": {
        "id": "view-in-github",
        "colab_type": "text"
      },
      "source": [
        "<a href=\"https://colab.research.google.com/github/labeduc/ciencia-de-dados/blob/main/python/Python_AULA04.ipynb\" target=\"_parent\"><img src=\"https://colab.research.google.com/assets/colab-badge.svg\" alt=\"Open In Colab\"/></a>"
      ]
    },
    {
      "cell_type": "markdown",
      "metadata": {
        "id": "7vrpla9hZrRw"
      },
      "source": [
        "# Listas de dados, Conjuntos e Hashes\n",
        "\n",
        "Até agora trabalhamos com dados simples. Inteiro, ponto flututante, strings, booleanos. Mas o Python vai muito mais além.\n",
        "\n",
        "Há pelo menos mais 4 tipos de dados especiais que quero apresentar para vocês\n",
        "- Lista de dados\n",
        "  - Lista ou vetor (ou array ou matriz)\n",
        "  - Tuplas\n",
        "- Conjuntos (set)\n",
        "- Dicionários (dictionary)\n",
        "\n",
        "Entender esses tipos de dados é importante, pois à medida que as estruturas de dados ficam mais complexos, ficamos mais pertos da realidade de desenvolvimento. Por exemplo, uma tabela de banco de dados é um conjunto complexo de vetores de dados: Linhas e Colunas. Computação gráfica, os operadores tridimensionais (rotação, translação, escala) usam uma matriz.  Dentre tantos...\n",
        "\n"
      ]
    },
    {
      "cell_type": "markdown",
      "metadata": {
        "id": "lLhvZl7VhF0G"
      },
      "source": [
        "## Lista de Dados - Lista, Array ou Vetores\n",
        "\n",
        "Uma lista é uma coleção de ítems de dados ordenados. Tal qual uma lista no Scratch, o Python tem pelo menos 3 formas de estabelecer uma lista.\n",
        "\n",
        "Para declarar uma lista, basta atribuir a uma variável o uma sequencia de valores encerrados por um colchete: []\n"
      ]
    },
    {
      "cell_type": "code",
      "metadata": {
        "id": "ewnWkel-oqpQ",
        "colab": {
          "base_uri": "https://localhost:8080/"
        },
        "outputId": "b3faf574-03ee-4e01-e24c-f3f2ab89be90"
      },
      "source": [
        "# exemplo de declaração de um array\n",
        "frutas=[\"maçã\",\"banana\",\"morangos\",\"jaca\"]\n",
        "for fruta in frutas:\n",
        "  print(fruta)"
      ],
      "execution_count": null,
      "outputs": [
        {
          "output_type": "stream",
          "name": "stdout",
          "text": [
            "maçã\n",
            "banana\n",
            "morangos\n",
            "jaca\n"
          ]
        }
      ]
    },
    {
      "cell_type": "markdown",
      "metadata": {
        "id": "trVaSYmBXBkz"
      },
      "source": [
        "Podemos declarar uma lista usando a função **list()**"
      ]
    },
    {
      "cell_type": "code",
      "metadata": {
        "id": "pC9XTapMXJ-_",
        "colab": {
          "base_uri": "https://localhost:8080/"
        },
        "outputId": "97bcd816-8477-40ad-d3f9-9dcfe4845fb3"
      },
      "source": [
        "fib=list()\n",
        "print(fib)"
      ],
      "execution_count": null,
      "outputs": [
        {
          "output_type": "stream",
          "name": "stdout",
          "text": [
            "[]\n"
          ]
        }
      ]
    },
    {
      "cell_type": "markdown",
      "metadata": {
        "id": "lkX-tKHGXWnZ"
      },
      "source": [
        "Diferentemente do scratch, listas em python são indexados a partir do 0. Isto é, o primeiro elemento está na posição zero.\n",
        "\n",
        "Python também aceita indices negativos nesse caso os elementos são acessados de trás para frente (do final da lista, -1; penúltimo, -2... e assim por diante).\n",
        "\n",
        "Vamos ver uns exemplos:"
      ]
    },
    {
      "cell_type": "code",
      "metadata": {
        "id": "KzKQsKlGppmu",
        "colab": {
          "base_uri": "https://localhost:8080/"
        },
        "outputId": "1257b95f-8c71-468c-c353-fa04f5f15605"
      },
      "source": [
        "# acessando o ítem na lista, na posição 2\n",
        "print(frutas[2])\n",
        "\n",
        "# acessando o último item da lista\n",
        "print(frutas[-1])\n"
      ],
      "execution_count": null,
      "outputs": [
        {
          "output_type": "stream",
          "name": "stdout",
          "text": [
            "morangos\n",
            "jaca\n"
          ]
        }
      ]
    },
    {
      "cell_type": "markdown",
      "metadata": {
        "id": "6XSeHYDEYbkJ"
      },
      "source": [
        "### Operações com listas\n",
        "Aprendemos anteriormente como criar uma lista com elementos fixos (quando se usa \"[]\". E uma lista plenamente vazia (quando se usa **list()**)\n",
        "\n",
        "Aprendemos também como recuperar um ítem da lista, baseado na sua posição.\n",
        "\n",
        "Para adicionar, remover, buscar um elemento da lista, precisamos lançar mão de algumas funções especiais que estão no corpo da variável (que armazena os dados a lista).\n",
        "\n",
        "Eis as funções:\n",
        "- append(*item*): Adiciona um item na lista\n",
        "- remove(*item*): Remove o item da lista\n",
        "- del *lista*[*posição*]: apaga o item da lista, baseado na posição do item.\n",
        "- pop(): remove sempre o primeiro elemento da lista\n"
      ]
    },
    {
      "cell_type": "code",
      "metadata": {
        "id": "iTq3QeY9YPje",
        "colab": {
          "base_uri": "https://localhost:8080/",
          "height": 270
        },
        "outputId": "54d3498c-deab-4e07-cf20-67a8d82544e6"
      },
      "source": [
        "print('lista original:', frutas);\n",
        "# adicionando items à lista de frutas\n",
        "frutas.append(\"laranja\")\n",
        "frutas.append(\"banana\")\n",
        "frutas.append(\"limão\")\n",
        "\n",
        "print('lista com novas frutas',frutas)\n",
        "\n",
        "# removendo um ítem da lista (banana está duplicada)\n",
        "# veja que \"banana\" está na posição 1 e 4. ele irá remover a primeira ocorrencia - sempre\n",
        "frutas.remove(\"banana\")\n",
        "print(frutas)\n",
        "\n",
        "# atualizando uma fruta\n",
        "frutas[10]=\"framboesa\"\n",
        "print(frutas)"
      ],
      "execution_count": null,
      "outputs": [
        {
          "output_type": "stream",
          "name": "stdout",
          "text": [
            "lista original: ['maçã', 'banana', 'morangos', 'jaca']\n",
            "lista com novas frutas ['maçã', 'banana', 'morangos', 'jaca', 'laranja', 'banana', 'limão']\n",
            "['maçã', 'morangos', 'jaca', 'laranja', 'banana', 'limão']\n"
          ]
        },
        {
          "output_type": "error",
          "ename": "IndexError",
          "evalue": "ignored",
          "traceback": [
            "\u001b[0;31m---------------------------------------------------------------------------\u001b[0m",
            "\u001b[0;31mIndexError\u001b[0m                                Traceback (most recent call last)",
            "\u001b[0;32m<ipython-input-5-e53ca8974daa>\u001b[0m in \u001b[0;36m<module>\u001b[0;34m\u001b[0m\n\u001b[1;32m     13\u001b[0m \u001b[0;34m\u001b[0m\u001b[0m\n\u001b[1;32m     14\u001b[0m \u001b[0;31m# atualizando uma fruta\u001b[0m\u001b[0;34m\u001b[0m\u001b[0;34m\u001b[0m\u001b[0;34m\u001b[0m\u001b[0m\n\u001b[0;32m---> 15\u001b[0;31m \u001b[0mfrutas\u001b[0m\u001b[0;34m[\u001b[0m\u001b[0;36m10\u001b[0m\u001b[0;34m]\u001b[0m\u001b[0;34m=\u001b[0m\u001b[0;34m\"framboesa\"\u001b[0m\u001b[0;34m\u001b[0m\u001b[0;34m\u001b[0m\u001b[0m\n\u001b[0m\u001b[1;32m     16\u001b[0m \u001b[0mprint\u001b[0m\u001b[0;34m(\u001b[0m\u001b[0mfrutas\u001b[0m\u001b[0;34m)\u001b[0m\u001b[0;34m\u001b[0m\u001b[0;34m\u001b[0m\u001b[0m\n",
            "\u001b[0;31mIndexError\u001b[0m: list assignment index out of range"
          ]
        }
      ]
    },
    {
      "cell_type": "code",
      "metadata": {
        "id": "KR4xwUdcaznW"
      },
      "source": [
        "# EXERCICIO:\n",
        "# da mesma forma, teste...\n",
        "# 1 Adicione \"tangerina\" à lista, usando o append\n",
        "frutas.?\n",
        "print(frutas)\n",
        "\n",
        "# 2 teste o comando pop()\n",
        "f=frutas.?\n",
        "print(\"f=\",f)\n",
        "\n",
        "print(frutas)"
      ],
      "execution_count": null,
      "outputs": []
    },
    {
      "cell_type": "markdown",
      "metadata": {
        "id": "2rb4C38DbWxj"
      },
      "source": [
        "### Criando sub listas (ou cópias)\n",
        "\n",
        "Python é extremamente flexível com suas listas. Com uma sintaxe simples podemos selecionar pedaços da lista.\n",
        "\n",
        "> *lista*[**inicio**:**fim**]\n",
        "\n",
        "Se substituirmos *inicio* e *fim* por indices (números) podemos selecionar um pedaço da lista original com valores entre o inicio e o fim.\n",
        "\n",
        "Se omitirmos um desses indices:\n",
        "- *lista*[:**fim**] - indica que iremos copiar desde o inicio até o indice *fim*\n",
        "- *lista*[**inicio**:] - indica que iremos copiar desde o indice de inicio até o final da lista.\n",
        "\n",
        "NÃO SE ESQUEÇA: o indice de término sempre é exclusivo(não entra na conta). Por exemplo, abaixo, iremos pegar os valores dos índices 1 e 3... mas ele trará 2 valores. 1,2 (3 fica de fora).\n",
        "\n",
        "Coisas do Python"
      ]
    },
    {
      "cell_type": "code",
      "metadata": {
        "id": "HZiYatSHcm9s",
        "colab": {
          "base_uri": "https://localhost:8080/"
        },
        "outputId": "c0500454-86aa-4433-b8f2-681b6350607c"
      },
      "source": [
        "# pegando um pedaço da lista\n",
        "print(\"lista original:\", frutas)\n",
        "print(\"sublista:\",frutas[1:3])\n",
        "\n",
        "# captura o tamanho da lista\n",
        "l=len(frutas)//2\n",
        "\n",
        "print(\"até a metade\",frutas[:l])\n",
        "print(\"desde a metade\", frutas[l:])\n",
        "\n"
      ],
      "execution_count": null,
      "outputs": [
        {
          "output_type": "stream",
          "name": "stdout",
          "text": [
            "lista original: ['maçã', 'morangos', 'jaca', 'laranja', 'banana', 'limão']\n",
            "sublista: ['morangos', 'jaca']\n",
            "até a metade ['maçã', 'morangos', 'jaca']\n",
            "desde a metade ['laranja', 'banana', 'limão']\n"
          ]
        }
      ]
    },
    {
      "cell_type": "markdown",
      "metadata": {
        "id": "IPWXQVpVePkG"
      },
      "source": [
        "### Lista de listas\n",
        "Aqui temos que fazer um exercício mental. Mas é fácil. Imagine uma matriz de números\n",
        "\n",
        " - | Matemática | Portugues | Química | Física | Biologia | Inglês\n",
        " -|-|-|-|-|-|-\n",
        " Primeiro bimestre|7.0|8.2|7.3|8.8|7.7|6.7\n",
        " Segundo bimestre|8.0|8.4|7.0|7.5|6.7|7.2\n",
        " Terceiro bimestre|7.1|7.2|6.3|7.8|8.9|9.7\n",
        "\n",
        " Veja que temos um elemento bidimensional... nas colunas, as notas por disciplinas; nas linhas, as notas por bimestre.\n",
        "\n",
        " Como represento isso em Python?\n",
        "\n",
        " Simples, um vetor de vetores. O trabalho mental é de visualizar claramente o que vai ser linhas e o que vai ser as colunas. E assim encerrar uma vetor dentro do outro. Vamos para um exemplo de modelagem:\n",
        " - Cria-se um vetor que será responsável pelas linhas; As notas do bimestre\n",
        " - E esse vetor de linhas, irá armazenar as notas individuais das das disciplinas.\n",
        "\n"
      ]
    },
    {
      "cell_type": "code",
      "metadata": {
        "id": "NxdsJkjGggSr",
        "colab": {
          "base_uri": "https://localhost:8080/"
        },
        "outputId": "3a8acabc-897f-476f-d86f-1e642a232a47"
      },
      "source": [
        "notas=[]\n",
        "\n",
        "notas.append([7.0,8.2,7.3,8.8,7.7,6.7]) # notas respectivas às materias, no 1o bimestre\n",
        "notas.append([8.0,8.4,7.0,7.5,6.7,7.2]) # 2o bimestre\n",
        "notas.append([7.1,7.2,6.3,7,8,8.9,9.7]) # 30 bimestre\n",
        "\n",
        "print(notas);"
      ],
      "execution_count": null,
      "outputs": [
        {
          "output_type": "stream",
          "name": "stdout",
          "text": [
            "[[7.0, 8.2, 7.3, 8.8, 7.7, 6.7], [8.0, 8.4, 7.0, 7.5, 6.7, 7.2], [7.1, 7.2, 6.3, 7, 8, 8.9, 9.7]]\n"
          ]
        }
      ]
    },
    {
      "cell_type": "markdown",
      "metadata": {
        "id": "y11Ql1plheXS"
      },
      "source": [
        "Olha que interessante. A partir desse momento podemos acessar as notas individualmente usando o operador **[]** mas de uma forma especial, onde podemos informar na primeira posição a \"linha\", e na 2a posição a coluna.\n",
        "\n",
        "Portanto:\n",
        "\n",
        "> *matriz*[*linha*][*coluna*]"
      ]
    },
    {
      "cell_type": "code",
      "metadata": {
        "id": "ztnDz-aChywm",
        "colab": {
          "base_uri": "https://localhost:8080/"
        },
        "outputId": "53534d52-e6fc-445f-b799-ba2d58d579de"
      },
      "source": [
        "print(notas[0][0]) # retorna o a nota de matemátca no primeiro bimestre\n",
        "\n",
        "# Vamos para um exemplo mais elaborado.. onde iremos exercitar o que aprendemos\n",
        "# nas aulas anteriores e estatistica!\n",
        "\n",
        "c=0 # contador de colunas\n",
        "total=[] # vetor do total de cada materia.\n",
        "media=[]\n",
        "while c<6: # processa por coluna; o nosso vetor de notas tem 6 colunas\n",
        "  sum=0\n",
        "  l=0\n",
        "  while l<3: # processa cada linha; e 3 linhas\n",
        "    sum=sum+notas[l][c]\n",
        "    l=l+1\n",
        "  total.append(sum) # calcula a soma total das notas.\n",
        "  media.append(sum/3) # calcula a média das notas\n",
        "  c=c+1 # incrementa a coluna\n",
        "\n",
        "print(\"Total\", total)\n",
        "print(\"Media\", media)"
      ],
      "execution_count": null,
      "outputs": [
        {
          "output_type": "stream",
          "name": "stdout",
          "text": [
            "7.0\n",
            "Total [22.1, 23.8, 20.6, 23.3, 22.4, 22.8]\n",
            "Media [7.366666666666667, 7.933333333333334, 6.866666666666667, 7.766666666666667, 7.466666666666666, 7.6000000000000005]\n"
          ]
        }
      ]
    },
    {
      "cell_type": "markdown",
      "metadata": {
        "id": "S-P6_EpNxkA1"
      },
      "source": [
        "## Lista de Dados - Tuplas\n",
        "\n",
        "Esse é um tipo especial de lista, onde uma vez criado:\n",
        "- Seus dados não poderão ser mudados\n",
        "- não há possibilidade de editar ou adicionar dados nesse tipo de lista - se tentarem algum dos comandos de lista (pop, push, append... etc) VAI FALHAR!\n",
        "\n",
        "Para criar uma tupla, usa-se parênteses.\n",
        "\n",
        "Usa-se tuplas para criar listas imutáveis de dados. Use com cuidado. Pois o tipo de dado são bastante restritivos"
      ]
    },
    {
      "cell_type": "code",
      "metadata": {
        "id": "z915JwvgSSO8",
        "colab": {
          "base_uri": "https://localhost:8080/",
          "height": 235
        },
        "outputId": "369c7c44-e97d-4d54-8ef8-49cefa258c3e"
      },
      "source": [
        "# criar uma tupla de frutas\n",
        "frutas=(\"laranja\", \"abacate\", \"ameixa\",\"abacate\")\n",
        "print(frutas)\n",
        "\n",
        "print(frutas[1])\n",
        "\n",
        "frutas[3]=\"limao\"\n"
      ],
      "execution_count": null,
      "outputs": [
        {
          "output_type": "stream",
          "name": "stdout",
          "text": [
            "('laranja', 'abacate', 'ameixa', 'abacate')\n",
            "abacate\n"
          ]
        },
        {
          "output_type": "error",
          "ename": "TypeError",
          "evalue": "ignored",
          "traceback": [
            "\u001b[0;31m---------------------------------------------------------------------------\u001b[0m",
            "\u001b[0;31mTypeError\u001b[0m                                 Traceback (most recent call last)",
            "\u001b[0;32m<ipython-input-10-c94a4b6fe4e0>\u001b[0m in \u001b[0;36m<module>\u001b[0;34m\u001b[0m\n\u001b[1;32m      5\u001b[0m \u001b[0mprint\u001b[0m\u001b[0;34m(\u001b[0m\u001b[0mfrutas\u001b[0m\u001b[0;34m[\u001b[0m\u001b[0;36m1\u001b[0m\u001b[0;34m]\u001b[0m\u001b[0;34m)\u001b[0m\u001b[0;34m\u001b[0m\u001b[0;34m\u001b[0m\u001b[0m\n\u001b[1;32m      6\u001b[0m \u001b[0;34m\u001b[0m\u001b[0m\n\u001b[0;32m----> 7\u001b[0;31m \u001b[0mfrutas\u001b[0m\u001b[0;34m[\u001b[0m\u001b[0;36m3\u001b[0m\u001b[0;34m]\u001b[0m\u001b[0;34m=\u001b[0m\u001b[0;34m\"limao\"\u001b[0m\u001b[0;34m\u001b[0m\u001b[0;34m\u001b[0m\u001b[0m\n\u001b[0m",
            "\u001b[0;31mTypeError\u001b[0m: 'tuple' object does not support item assignment"
          ]
        }
      ]
    },
    {
      "cell_type": "markdown",
      "metadata": {
        "id": "AABQu8POUAKW"
      },
      "source": [
        "## Lista de Dados - Conjuntos\n",
        "\n",
        "Esse tipo de dados permite que os dados sejam agrupados, sem ordem, não há índices e a duplicidade não é permitida.\n",
        "\n",
        "Ela possui métodos proprios métodos para manipular os dados, no que veremos nos exercicios abaixo. Como esse tipo de lista nao permite ter ítens duplicados, converter uma lista em um set é uma forma eficiente de remover os duplicados.\n",
        "\n",
        "Vamos ver como funciona"
      ]
    },
    {
      "cell_type": "code",
      "metadata": {
        "id": "nrHuqguJbCAr",
        "colab": {
          "base_uri": "https://localhost:8080/"
        },
        "outputId": "45ac954e-583a-4557-c982-43d06818d2f5"
      },
      "source": [
        "frutas={\"laranja\", \"banana\", \"abacate\", \"banana\"}\n",
        "print(frutas)\n",
        "\n",
        "# por ser um tipo não indexável, voce não pode acessar via posicão do item\n",
        "print(frutas)"
      ],
      "execution_count": null,
      "outputs": [
        {
          "output_type": "stream",
          "name": "stdout",
          "text": [
            "{'banana', 'laranja', 'abacate'}\n",
            "{'banana', 'laranja', 'abacate'}\n"
          ]
        }
      ]
    },
    {
      "cell_type": "markdown",
      "metadata": {
        "id": "mANPqq9Xbdz3"
      },
      "source": [
        "Para converter uma lista em um conjunto, basta usar a função **set()**"
      ]
    },
    {
      "cell_type": "code",
      "metadata": {
        "id": "lm157uw8bnqA"
      },
      "source": [
        "frutas=[\"laranja\", \"pera\", \"abacate\", \"laranja\", \"mamao\"]\n",
        "setFrutas=set(frutas)\n",
        "print(frutas)\n",
        "print(setFrutas)\n",
        "\n",
        "# voce pode testar se um elemento especifico está num set\n",
        "\n",
        "if \"laranja\" in setFrutas:\n",
        "  print(\"Tem laranja\")\n",
        "\n",
        "# e para criar um conjunto vazio, voce pode chamar a função set() em vazio.\n",
        "# usar add() para adicionar items\n",
        "\n",
        "linguas=set();\n",
        "\n",
        "linguas.add(\"latim\")\n",
        "linguas.add(\"alemao\")\n",
        "linguas.add(\"ingles\")\n",
        "\n",
        "print(linguas)"
      ],
      "execution_count": null,
      "outputs": []
    },
    {
      "cell_type": "markdown",
      "metadata": {
        "id": "4mUwpTI8QceC"
      },
      "source": [
        "## Lista de Dados - Dicionários\n",
        "\n",
        "Um dicionário é um tipo de dado complexo, que permite mapear uma informação com outra... :P. Vamos esclarecer isso.\n",
        "\n",
        "Imagine o seguinte problema, vamos montar um programa de agenda eletrônica. Nome e telefones.\n",
        "\n",
        "nome | telefone\n",
        "-----|---------\n",
        "Maria| 555-2300\n",
        "Jose | 555-1211\n",
        "Joao| 554-9923\n",
        "Clovis| 552-8820\n",
        "\n",
        "Podemos criar 2 listas, uma para nomes e outro para telefones. Onde se pesquisarmos pelo índice de um nome, acharemos na mesma posição o telefone. Funciona... mas E se a pessoa tiver mais de um telefone? Uma outra lista? telefone2?\n",
        "\n",
        "Bom tem um custo nisso, pois precisaremos percorrer a lista de nomes. achar a posição do nome e usar para achar o telefone, ou em qualquer outra lista. Se na lista telefone 1 tiver somente um registro, ou crio dados vazios para quem não tem outro telefone, ou a lista fica fora de sincronismo...\n",
        "\n",
        "Complicado.\n",
        "\n",
        "Se fizermos uma lista de lista, a coisa fica beeeeeem pior. Pois precisaríamos estruturar cada elemento da lista para nao se perder nos dados:\n",
        "```\n",
        "[\n",
        "  [\"Maria\", \"555-2300\"],[\"Jose\",\"555-1211\"]...[\"Clovis\",\"552-8820\"]\n",
        "]\n",
        "```\n",
        "muito confuso. Sem milongas..."
      ]
    },
    {
      "cell_type": "markdown",
      "metadata": {
        "id": "7U3Kc16iTHSr"
      },
      "source": [
        "### O Dicionário\n",
        "\n",
        "é uma espécie de **CONJUNTO** ou **Set** onde temos a estrutura de *Chave* (key) e *Valor* (value);\n",
        "\n",
        "Se declara um dicionário assim\n",
        "```\n",
        "contatos={\"Maria\":\"555-2300\",\"Jose\":\"555-1211\",\"Joao\":\"554-9923\", \"Clovis\":\"552-8820\"}\n",
        "```\n",
        "\n",
        "Para pesquisar um ítem basta pedir pela chave:\n",
        "```\n",
        "telefone_maria=contatos[\"Maria\"]\n",
        "```\n",
        "\n",
        "Veja que não usei um índice numérico como eu teria que usar se fizesse usando uma lista!\n",
        "\n",
        "da mesma forma, para adicionar um dado ao dicionário, defino uma chave e associo a um valor\n",
        "\n",
        "```\n",
        "contatos[\"Lucas\"]=\"448-2929\"\n",
        "```\n",
        "\n",
        "para remover basta invocar o comando *del* (esse é novo)\n",
        "\n",
        "```\n",
        "del contatos[\"Maria\"]\n",
        "```\n",
        "\n",
        "Vamos brincar um pouco no python"
      ]
    },
    {
      "cell_type": "code",
      "metadata": {
        "id": "HMixEb3UUriI"
      },
      "source": [
        "## Criando um dicionário vazio\n",
        "dicionario=dict()\n",
        "\n",
        "## Adicionando items no dicionario\n",
        "dicionario[\"coelho\"]=\"rabbit\";\n",
        "dicionario[\"girafa\"]=\"giraffe\";\n",
        "dicionario[\"cavalo\"]=\"horse\";\n",
        "dicionario[\"pássaro\"]=\"bird\";\n",
        "\n",
        "print(dicionario)"
      ],
      "execution_count": null,
      "outputs": []
    },
    {
      "cell_type": "code",
      "metadata": {
        "id": "S97vwJG4WQNf"
      },
      "source": [
        "## Vamos pesquisar um animal\n",
        "animal=input(\"digite um animal\")\n",
        "\n",
        "## Antes de buscar o animal no dicionario, verifique se existe o animal antes\n",
        "if(animal in dicionario.keys()):\n",
        "  print(dicionario[animal])\n",
        "else:\n",
        "  print(\"Esse animal não existe\")"
      ],
      "execution_count": null,
      "outputs": []
    },
    {
      "cell_type": "markdown",
      "metadata": {
        "id": "P2xKfqfeXD20"
      },
      "source": [
        "o método **keys()** retorna a lista de dados que compõem a chave. Isso facilita muito em percorrer o dicionário e testar se existe uma chave ou não.\n",
        "\n",
        "Vamos criar um programa que verifica e pergunta se quer inserir o animal na lista"
      ]
    },
    {
      "cell_type": "code",
      "metadata": {
        "id": "h126B1dmXYxy"
      },
      "source": [
        "while True:\n",
        "  animal=input(\"digite um animal (fim, para parar)\")\n",
        "\n",
        "  if(animal==\"fim\"):\n",
        "    break;\n",
        "\n",
        "  if(animal in dicionario.keys()):\n",
        "    print(dicionario[animal])\n",
        "  else:\n",
        "    print(animal, \"não encontrado\")\n",
        "    beast=input(\"Qual a tradução de {} ?\".format(animal))\n",
        "    dicionario[animal]=beast\n",
        "\n",
        "# agora teste,\n",
        "# camelo -> camel\n",
        "# peixe -> fish\n",
        "# macaco -> monkey"
      ],
      "execution_count": null,
      "outputs": []
    },
    {
      "cell_type": "markdown",
      "metadata": {
        "id": "9DpXz61vW87O"
      },
      "source": [
        "Execute com carinho o programa acima. Com um pouco de criatividade, temos um pequeno sisteminha de cadastrar animais em inglês e português.\n",
        "\n"
      ]
    },
    {
      "cell_type": "markdown",
      "metadata": {
        "id": "fBhD1UaccrzI"
      },
      "source": [
        "# Controle de Fluxo - Interação de listas\n",
        "\n",
        "Vamos adicionar mais um controle de repetição ao nosso cestinho de conhecimento. Instrução **for**\n",
        "\n",
        "A sintaxe dele é assim\n",
        "\n",
        "```\n",
        "for variavel in lista:\n",
        "  comandos\n",
        "```\n",
        "\n",
        "Em suma, esse comando somente funciona em listas. E atribui a cada interação um elemento da lista à variavel, permitindo usar esse valor dentro do bloco"
      ]
    },
    {
      "cell_type": "code",
      "metadata": {
        "id": "W-tXOc5ydd46"
      },
      "source": [
        "carros=[\"audi\",\"vw\",\"gm\",\"nissan\",\"kia\", \"hyundai\"]\n",
        "\n",
        "for carro in carros:\n",
        "  print(carro)\n"
      ],
      "execution_count": null,
      "outputs": []
    }
  ]
}