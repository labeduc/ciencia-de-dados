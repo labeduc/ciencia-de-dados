{
  "nbformat": 4,
  "nbformat_minor": 0,
  "metadata": {
    "colab": {
      "provenance": [],
      "toc_visible": true,
      "include_colab_link": true
    },
    "kernelspec": {
      "name": "python3",
      "display_name": "Python 3"
    }
  },
  "cells": [
    {
      "cell_type": "markdown",
      "metadata": {
        "id": "view-in-github",
        "colab_type": "text"
      },
      "source": [
        "<a href=\"https://colab.research.google.com/github/labeduc/ciencia-de-dados/blob/main/python/Python_AULA05.ipynb\" target=\"_parent\"><img src=\"https://colab.research.google.com/assets/colab-badge.svg\" alt=\"Open In Colab\"/></a>"
      ]
    },
    {
      "cell_type": "markdown",
      "metadata": {
        "id": "b-GFYc9Jf_wi"
      },
      "source": [
        "# Funções\n",
        "\n",
        "O propósito de criar funções, são:\n",
        "  - permitir o reuso de código: porções idênticas de código devem ser escritas uma única vez, e chamadas/utilizadas sempre que necessário\n",
        "  - isolar problemas: permite atacar um problema por vez de forma a facilitar o desenvolvimento do todo corretamente\n",
        "  - criar uma camada de abstração que permita entender melhor a lógica do programa...\n",
        "\n",
        "Para criar uma função em a sintaxe é simples:\n",
        "\n",
        "```python\n",
        "def nome_da_funcao(<lista de argumentos>):\n",
        "   corpo da função\n",
        "```\n",
        "\n",
        "Se a função retorna um valor (um cálculo, por exemplo), você chama o comando **return** com o valor a ser devolvido pela função.\n",
        "\n",
        "```python\n",
        "def nome_da_funcao(<lista de argumentos>):\n",
        "   corpo_da_função\n",
        "   return valor\n",
        "```\n",
        "\n",
        "A **lista de argumentos** é uma declaração de variáveis que serão utilizados no processamento dentro do corpo da função. É opcional.\n",
        "\n",
        "Quando não há parametros, basta declarar da seguinte forma:\n",
        "```python\n",
        "def nome_da_funcao():\n",
        "  corpo_da_função\n",
        "  ...\n",
        "```\n",
        "\n",
        "Utilizar uma função se assemelha com os comandos que já estudamos. Isso se chama invocação. Basta simplesmente chamar pelo nome, passar os parametros (se houver) e coletar o resultado (se ele retorna valor)\n",
        "\n",
        "Vamos ver como funciona em cada caso nos exemplos seguintes."
      ]
    },
    {
      "cell_type": "markdown",
      "source": [
        "## Funçao Simples, sem parâmetro, sem retorno\n",
        "\n",
        "Esse tipo de função é conhecida também como um *procedimento*."
      ],
      "metadata": {
        "id": "ncjR4QmlcCvD"
      }
    },
    {
      "cell_type": "code",
      "metadata": {
        "id": "YY-YN80DepHo"
      },
      "source": [
        "# função que imprime um cabeçalho\n",
        "# essa função nao retorna nada; também não tem parâmetros (lista de argumentos)\n",
        "\n",
        "def header():\n",
        "  print(\"LabEDUC - Dell/Pão dos Pobres\")\n",
        "  print(\"Introdução ao Python\")\n"
      ],
      "execution_count": null,
      "outputs": []
    },
    {
      "cell_type": "markdown",
      "metadata": {
        "id": "C37eHUlzhfWa"
      },
      "source": [
        "Ao executar essa pedaço de código nada aparece para o usuário, mas se você observar (trecho de código adiante) uma função é nada mais que um tipo especial de variável que armazena \"código\"!\n",
        "\n",
        "Vamos fazer uns testes"
      ]
    },
    {
      "cell_type": "code",
      "metadata": {
        "id": "eUUt1UgBQjZf",
        "colab": {
          "base_uri": "https://localhost:8080/"
        },
        "outputId": "d17911eb-5e30-44e5-c82d-e48adbe371a0"
      },
      "source": [
        "# anteriormente, criamos a função header() que imprime um cabeçalho\n",
        "# vamos ver o que header() tem:\n",
        "\n",
        "# verificação do tipo definido\n",
        "print(header)\n",
        "\n",
        "# invocação da função\n",
        "header()"
      ],
      "execution_count": null,
      "outputs": [
        {
          "output_type": "stream",
          "name": "stdout",
          "text": [
            "<function header at 0x7fe4db037950>\n",
            "<class 'function'>\n",
            "LabEDUC - Dell/Pão dos Pobres\n",
            "Introdução ao Python\n"
          ]
        }
      ]
    },
    {
      "cell_type": "markdown",
      "metadata": {
        "id": "sjLZnrU_-Gud"
      },
      "source": [
        "Veja que ele te retornou no primeiro print, um endereço de memória. Isso diz que a função está iniciando naquele ponto.\n",
        "\n"
      ]
    },
    {
      "cell_type": "markdown",
      "source": [
        "## Função simples, sem parâmetros, com retorno\n",
        "\n",
        "A função abaixo é um exemplo de uma função, simples, que faz a interface com o usuário (lê dados digitados) e retorna uma tupla (dos valores lidos, convertidos para inteiros)\n",
        "\n"
      ],
      "metadata": {
        "id": "ozfPqtMHdYhp"
      }
    },
    {
      "cell_type": "code",
      "metadata": {
        "id": "C515KZ3RhsKh"
      },
      "source": [
        "# Função captura_numeros: ela pede ao usuário 2 numeros\n",
        "def captura_numeros():\n",
        "  x1=input(\"digite o primeiro numero:\")\n",
        "  x2=input(\"digite o segundo numero:\")\n",
        "  # retorna uma tupla, contendo os dois numeros digitados.\n",
        "  return (int(x1), int(x2))"
      ],
      "execution_count": null,
      "outputs": []
    },
    {
      "cell_type": "markdown",
      "metadata": {
        "id": "ERk3-sL3_UKK"
      },
      "source": [
        "Mesmo assim ao executar o bloco acima, nada será executado. Mas igual ao exemplo anterior, teremos a criação da função em memória. Vamos pro próximo...\n",
        "\n",
        "Vamos criar uma função aque agora recebe 2 parâmetros e retorna valor.\n"
      ]
    },
    {
      "cell_type": "markdown",
      "source": [
        "## Função simples, com parâmetros e com retorno\n",
        "\n",
        "Parâmetro de função é uma espécie de \"slot de dados\". Alí vão os valores que serão executados pela função.\n",
        "\n",
        "Os parâmetros de função são como argumentos ou entradas necessárias para processar os dados. Isso simplifica o entendimento da função e melhora a sua performance. Por exemplo evita com que tenhamos um conjunto de variáveis públicas e globais, restringindo o problema ao seu próprio escopo.\n",
        "\n"
      ],
      "metadata": {
        "id": "_-RwJvOtoCQK"
      }
    },
    {
      "cell_type": "markdown",
      "source": [
        "No nosso exemplo, vamos criar a função maior(), cujo objetivo é receber 2 números quaisquer e retornar o maior de ambos.\n",
        "\n",
        "Observe que uma função que recebe parâmetros, ela é mais elaborada e vai direto ao ponto. Se tomarmos a nossa linha de raciocínio nesse tutorial, eu nao preciso ler os valores, pois isso é problema de uma outra função. Só preciso calcular.\n",
        "\n",
        "É o que acontece em matemática quando o professor joga uma fórmula no quadro. Você só precisar colocar os valores corretos e fazer as contas."
      ],
      "metadata": {
        "id": "Dp3iXZqpor2C"
      }
    },
    {
      "cell_type": "markdown",
      "metadata": {
        "id": "noSpq6k0iGtT"
      },
      "source": [
        "Essa função lê do usuário 2 numeros e retorna uma tupla contendo esses números convertidos."
      ]
    },
    {
      "cell_type": "code",
      "metadata": {
        "id": "06IWybC5iS7I"
      },
      "source": [
        "# maior (a, b), calcula qual dos dois valores a ou b é o maior.\n",
        "def maior(a,b):\n",
        "  if(a>b):\n",
        "    return a\n",
        "  else:\n",
        "    return b"
      ],
      "execution_count": null,
      "outputs": []
    },
    {
      "cell_type": "markdown",
      "metadata": {
        "id": "YuRO_gxEBXRr"
      },
      "source": [
        "> **Escopo**: as variáveis a e b, declarados nos parametros da função somente são visíveis dentro do corpo da função. Qualquer programa externo a ele, não consegue visualizar ou acessar esses valores. Isso se chama escopo e simplifica o entendimento do programa. Vamos ver mais sobre escopo adiante."
      ]
    },
    {
      "cell_type": "markdown",
      "metadata": {
        "id": "DSyShk6cifDz"
      },
      "source": [
        "## Juntando tudo\n",
        "Agora vamos reunir tudo. A declaração das funçoes: *header*, *captura_numeros* e *maior* não foram em vão.  No programa abaixo, teremos a utilização dessas funções."
      ]
    },
    {
      "cell_type": "code",
      "metadata": {
        "id": "B3qbSLZqitSU",
        "colab": {
          "base_uri": "https://localhost:8080/"
        },
        "outputId": "667038d6-a7a3-4137-f273-a1648f5e74d9"
      },
      "source": [
        "# invoco a função que escreve o cabeçalho\n",
        "header()\n",
        "# invoco a função que captura os numeros\n",
        "num=captura_numeros()\n",
        "# calculo o maior dentre os numeros;\n",
        "# o retorno de captura_numeros é uma tupla\n",
        "# num[0] é o primeiro elemento da tupla\n",
        "# num[1] é o segundo elemento da tupla\n",
        "m=maior(num[0],num[1])\n",
        "\n",
        "print(\"Dos numeros\", num, \"o maior é\", m)"
      ],
      "execution_count": null,
      "outputs": [
        {
          "output_type": "stream",
          "name": "stdout",
          "text": [
            "LabEDUC - Dell/Pão dos Pobres\n",
            "Introdução ao Python\n",
            "digite o primeiro numero:10\n",
            "digite o segundo numero:20\n",
            "Dos numeros (10, 20) o maior é 20\n"
          ]
        }
      ]
    },
    {
      "cell_type": "markdown",
      "source": [
        "#Função anônima (ou lambda)\n",
        "\n",
        "Uma função anônima é uma função que não tem nome e são geralmente criadas para implementar pequenas funcionalidades ou para serem utilizadas por um período breve (dentro do escopo de uma função, por exemplo).\n",
        "\n",
        "Ao contrário de uma função normal, a função anônima não requer o *return* para retornar valor e a declaração de parâmetros é mais simples ainda. Veja a sintaxe:\n",
        "\n",
        "```python\n",
        "lambda argumentos: expressao\n",
        "```\n",
        "\n",
        "Por exemplo a nossa função maior (definida anteriormente) poderia ser escrita da forma abaixo\n",
        "\n",
        "```python\n",
        "maior=lambda a, b: a if a>b else b\n",
        "```\n"
      ],
      "metadata": {
        "id": "NxvM19OOqNh-"
      }
    },
    {
      "cell_type": "code",
      "source": [
        "maior=lambda a,b: a if a>b else b\n",
        "\n",
        "print(maior(10,20))"
      ],
      "metadata": {
        "colab": {
          "base_uri": "https://localhost:8080/"
        },
        "id": "MkOkqWUWs9Cx",
        "outputId": "f0ad29b6-e244-43de-ed41-eef8dee31d5f"
      },
      "execution_count": null,
      "outputs": [
        {
          "output_type": "stream",
          "name": "stdout",
          "text": [
            "20\n"
          ]
        }
      ]
    },
    {
      "cell_type": "markdown",
      "source": [
        "A função anônima não precisa estar necessariamente associada a uma variável. A maior utilidade da função anônima é como acessório para funções que exigem uma outra função como parâmetro.\n",
        "\n",
        "> Isso é uma flexibilidade importante nas linguagens de programação. Ter funções como objetos que poderão ser invocados por outras funções como se fossem argumentos.\n",
        "\n",
        "Por exemplo, vamos criar uma função que duplica os valores de uma lista. E vamos comparar com uma funcão lambda"
      ],
      "metadata": {
        "id": "5pXoNr_5tMiU"
      }
    },
    {
      "cell_type": "code",
      "source": [
        "dobro=[]\n",
        "for i in range(1,10):\n",
        "  dobro.append(i*2)\n",
        "\n",
        "print(dobro)"
      ],
      "metadata": {
        "colab": {
          "base_uri": "https://localhost:8080/"
        },
        "id": "iU6ADJmruCGU",
        "outputId": "36d716eb-094d-4e4b-a60e-d60072308498"
      },
      "execution_count": null,
      "outputs": [
        {
          "output_type": "stream",
          "name": "stdout",
          "text": [
            "[2, 4, 6, 8, 10, 12, 14, 16, 18]\n"
          ]
        }
      ]
    },
    {
      "cell_type": "code",
      "source": [
        "dobro=list(map(lambda i: i*2,range(1,10)))\n",
        "print(dobro)"
      ],
      "metadata": {
        "colab": {
          "base_uri": "https://localhost:8080/"
        },
        "id": "kJ0L2yrBuQjV",
        "outputId": "1bb5051d-dee4-48e0-ade4-f298f93e6307"
      },
      "execution_count": null,
      "outputs": [
        {
          "output_type": "stream",
          "name": "stdout",
          "text": [
            "[2, 4, 6, 8, 10, 12, 14, 16, 18]\n"
          ]
        }
      ]
    },
    {
      "cell_type": "markdown",
      "source": [
        "Tem novidade aí\n",
        "- funçao *list()*: converte para lista de valores\n",
        "- função *map()*: aplica uma operação, ou funcão, sobre uma lista de valores\n",
        "- função *range()*: cria uma lista de valores.\n",
        "\n",
        "Dentre todas essas funções, a *map()* é quem requer uma função como argumento, para aplicar sobre os valores (no 2o parametro)."
      ],
      "metadata": {
        "id": "U4lwdoqsukFm"
      }
    },
    {
      "cell_type": "markdown",
      "source": [
        "\n",
        "# Exercícios"
      ],
      "metadata": {
        "id": "BPVwQTkzvVlS"
      }
    },
    {
      "cell_type": "markdown",
      "source": [
        "# Maior de 3"
      ],
      "metadata": {
        "id": "bHbpqvDRvdRA"
      }
    },
    {
      "cell_type": "code",
      "metadata": {
        "id": "8g6CqnftJJ0q"
      },
      "source": [
        "# usando a função maior() declarado nos exercicios acima, escreva um programa que calcule o maior de 3 numeros. Mas só usando\n",
        "# maior(a,b) declarado acima.\n",
        "\n",
        "x=int(input('primeiro numero:'))\n",
        "y=int(input('segundo numero:'))\n",
        "z=int(input('terceiro numero:'))\n",
        "\n",
        "\n",
        "def maior3(a,b,c):\n",
        "  # corpo da funcão\n",
        "  # escreva aqui a sua expressão ou função\n",
        "  # ...\n",
        "  return m\n",
        "\n",
        "print(\"Dos numeros [\",x,\",\",y,\",\",z,\"] o maior é:\",maior3(x,y,z))"
      ],
      "execution_count": null,
      "outputs": []
    }
  ]
}