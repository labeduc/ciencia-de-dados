{
 "cells": [
  {
   "cell_type": "code",
   "execution_count": 4,
   "metadata": {},
   "outputs": [],
   "source": [
    "from llama_index import GPTVectorStoreIndex, SimpleDirectoryReader, LLMPredictor, PromptHelper, ServiceContext\n",
    "from langchain import OpenAI\n",
    "\n",
    "import os\n",
    "\n",
    "os.environ['OPENAI_API_KEY'] = 'sk-xxx'\n"
   ]
  },
  {
   "cell_type": "code",
   "execution_count": 5,
   "metadata": {},
   "outputs": [],
   "source": [
    "# Loading from a directory\n",
    "documents = SimpleDirectoryReader('files').load_data()"
   ]
  },
  {
   "cell_type": "code",
   "execution_count": 6,
   "metadata": {},
   "outputs": [],
   "source": [
    "# define prompt helper\n",
    "# set maximum input size\n",
    "max_input_size = 4096\n",
    "# set number of output tokens\n",
    "num_output = 2048\n",
    "# set maximum chunk overlap\n",
    "max_chunk_overlap = 20\n",
    "\n",
    "# define LLM\n",
    "llm_predictor = LLMPredictor(llm=OpenAI(temperature=0, model_name=\"text-davinci-003\", max_tokens=num_output))\n",
    "\n",
    "prompt_helper = PromptHelper(max_input_size, num_output, max_chunk_overlap)\n",
    "\n",
    "service_context = ServiceContext.from_defaults(llm_predictor=llm_predictor, prompt_helper=prompt_helper)\n",
    "\n",
    "index = GPTVectorStoreIndex.from_documents(\n",
    "    documents, service_context=service_context\n",
    ")"
   ]
  },
  {
   "cell_type": "code",
   "execution_count": 7,
   "metadata": {},
   "outputs": [],
   "source": [
    "# Querying the index\n",
    "qe = index.as_query_engine()"
   ]
  },
  {
   "cell_type": "code",
   "execution_count": 8,
   "metadata": {},
   "outputs": [
    {
     "name": "stdout",
     "output_type": "stream",
     "text": [
      "\n",
      "O documento aborda a importância de visualizações de dados para a análise de dados. Ele fornece uma lista de ferramentas para visualização de dados, bem como os objetivos para os quais as visualizações são usadas, como comparar valores, evidenciar correlações entre valores, distribuição de valores em relação ao tempo, posicionamento geográfico e dimensões não contínuas. O documento também inclui um diagrama que indica quais gráficos podem ser usados de acordo com o objetivo.\n"
     ]
    }
   ],
   "source": [
    "response = qe.query(\"Sumarize o conteúdo do documento\")\n",
    "print(response)"
   ]
  },
  {
   "cell_type": "code",
   "execution_count": 11,
   "metadata": {},
   "outputs": [
    {
     "name": "stdout",
     "output_type": "stream",
     "text": [
      "\n",
      "Slide 1:\n",
      "\n",
      "## O que é Visualização de Dados?\n",
      "\n",
      "Visualização de Dados é a arte de transformar dados brutos em informações úteis e intuitivas. É uma forma de comunicar resultados de análise de dados de forma clara e eficaz.\n",
      "\n",
      "Imagem Conceito: Uma imagem de um gráfico de barras.\n",
      "\n",
      "Slide 2:\n",
      "\n",
      "## Por que usar Visualização de Dados?\n",
      "\n",
      "Usar visualização de dados é uma ótima maneira de explorar e entender os dados, além de comunicar os resultados de forma clara e intuitiva.\n",
      "\n",
      "Imagem Conceito: Uma imagem de um gráfico de pizza.\n",
      "\n",
      "Slide 3:\n",
      "\n",
      "## Tipos de Visualização de Dados\n",
      "\n",
      "Existem diversos tipos de visualização de dados, como gráficos de barras, gráficos de pizza, gráficos de linha, gráficos de dispersão, mapas, entre outros.\n",
      "\n",
      "Imagem Conceito: Uma imagem de um gráfico de linha.\n",
      "\n",
      "Slide 4:\n",
      "\n",
      "## Ferramentas para Visualização de Dados\n",
      "\n",
      "Existem diversas ferramentas para visualização de dados, como Excel, Tableau, Power BI, Qlik, Looker, Oracle Analytics, SAP Business Objects, Grafana e Kibana.\n",
      "\n",
      "Imagem Conceito: Uma imagem de um gráfico de dispersão.\n",
      "\n",
      "Slide 5:\n",
      "\n",
      "## Como um Cientista de Dados cria Visualizações?\n",
      "\n",
      "Um Cientista de Dados usa a Visualização de Dados de duas formas: 1) Como uma ferramenta de exploração dos dados, durante a fase em que estão procurando respostas; 2) Como uma ferramenta de comunicação, para divulgar resultados.\n",
      "\n",
      "Imagem Conceito: Uma imagem de um mapa.\n",
      "\n",
      "Slide 6:\n",
      "\n",
      "## Por que usar Python para Visualização de Dados?\n",
      "\n",
      "Python é a linguagem preferida para Cientistas de Dados. Além disso, as bibliotecas de visualização em Python são muito flexíveis e poderosas, e são utilizadas por algumas das ferramentas citadas acima.\n",
      "\n",
      "Imagem Conceito: Uma imagem de um notebook interativo.\n",
      "\n",
      "Slide 7:\n",
      "\n",
      "## O que é o Google Colab?\n",
      "\n",
      "O Google Colab é uma ferramenta que ajuda muito no desenvolvimento de um story telling orientado a divulgação dos resultados. É uma ferramenta que combina o poder da programação, com visualização de dados e também com uma estrutura documental organizada para compartilhamento de informação.\n",
      "\n",
      "Imagem Conceito: Uma imagem de um código Python.\n",
      "\n",
      "Slide 8:\n",
      "\n",
      "## Tipos de Visualização X Objetivo de Comunicação\n",
      "\n",
      "Existe um diagrama que indica quais gráficos podem ser utilizados de acordo com o seu objetivo.\n",
      "\n",
      "Imagem Conceito: Uma imagem de um diagrama.\n",
      "\n",
      "Slide 9:\n",
      "\n",
      "## Vamos começar?\n",
      "\n",
      "Agora que toda a teoria necessária está explicada, vamos começar a trabalhar! Na próxima aula, iremos aprender sobre o Google Colab, a ferramenta que escolhemos para conduzir o restante deste curso!\n",
      "\n",
      "Imagem Conceito: Uma imagem de um computador com o Google Colab aberto.\n",
      "\n",
      "Slide 10:\n",
      "\n",
      "## Navegação\n",
      "\n",
      "< Anterior | Próximo >\n",
      "\n",
      "Imagem Conceito: Uma imagem de um botão de navegação.\n"
     ]
    }
   ],
   "source": [
    "comando = \"Transforme o conteúdo deste documento em um conjunto de 10 slides formatados em markdown. Cada slide deve ter seu inicio e fim marcado, além de conter uma sugestão para uma imagem conceito que ilustre seu conteúdo. O texto deve ser reescrito utilizando um tom mais informal.\"\n",
    "response = qe.query(comando)\n",
    "print(str(response))"
   ]
  },
  {
   "cell_type": "code",
   "execution_count": 13,
   "metadata": {},
   "outputs": [
    {
     "name": "stdout",
     "output_type": "stream",
     "text": [
      "\n",
      "\n",
      "Substitua os valores entre colchetes pelos valores apropriados:\n",
      "Não há valores entre colchetes para serem substituídos.\n",
      "\n",
      "Estamos em um curso para iniciarmos na carreira de Cientistas de Dados. Por isso, escolhemos o Google Colab como ferramenta para conduzir o restante deste curso. Na próxima aula, iremos aprender sobre o Google Colab, a ferramenta que escolhemos para conduzir o restante deste curso!\n"
     ]
    }
   ],
   "source": [
    "comando = \"\"\"Escreva um codigo em VBA para criar uma apresentação em power point. Cada slide inicia na linha que contem a palavra Slide e um numero, seguindo de dois pontos. Quando você encontrar o rotulo imagem conceito, utilize o texto subsequente para buscar uma imagem na internet e adicionar ao slide.\n",
    "Slide 1:\n",
    "## O que é Visualização de Dados?\n",
    "Visualização de Dados é a arte de transformar dados brutos em informações úteis e intuitivas. É uma forma de comunicar resultados de análise de dados de forma clara e eficaz.\n",
    "Imagem Conceito: Uma imagem de um gráfico de barras.\n",
    "\n",
    "Slide 2:\n",
    "## Por que usar Visualização de Dados?\n",
    "Usar visualização de dados é uma ótima maneira de explorar e entender os dados, além de comunicar os resultados de forma clara e intuitiva.\n",
    "Imagem Conceito: Uma imagem de um gráfico de pizza.\n",
    "\n",
    "Slide 3:\n",
    "## Tipos de Visualização de Dados\n",
    "Existem diversos tipos de visualização de dados, como gráficos de barras, gráficos de pizza, gráficos de linha, gráficos de dispersão, mapas, entre outros.\n",
    "Imagem Conceito: Uma imagem de um gráfico de linha.\n",
    "\n",
    "Slide 4:\n",
    "## Ferramentas para Visualização de Dados\n",
    "Existem diversas ferramentas para visualização de dados, como Excel, Tableau, Power BI, Qlik, Looker, Oracle Analytics, SAP Business Objects, Grafana e Kibana.\n",
    "Imagem Conceito: Uma imagem de um gráfico de dispersão.\n",
    "\n",
    "Slide 5:\n",
    "## Como um Cientista de Dados cria Visualizações?\n",
    "Um Cientista de Dados usa a Visualização de Dados de duas formas: 1) Como uma ferramenta de exploração dos dados, durante a fase em que estão procurando respostas; 2) Como uma ferramenta de comunicação, para divulgar resultados.\n",
    "Imagem Conceito: Uma imagem de um mapa.\n",
    "\n",
    "Slide 6:\n",
    "## Por que usar Python para Visualização de Dados?\n",
    "Python é a linguagem preferida para Cientistas de Dados. Além disso, as bibliotecas de visualização em Python são muito flexíveis e poderosas, e são utilizadas por algumas das ferramentas citadas acima.\n",
    "Imagem Conceito: Uma imagem de um notebook interativo.\n",
    "\n",
    "Slide 7:\n",
    "## O que é o Google Colab?\n",
    "O Google Colab é uma ferramenta que ajuda muito no desenvolvimento de um story telling orientado a divulgação dos resultados. É uma ferramenta que combina o poder da programação, com visualização de dados e também com uma estrutura documental organizada para compartilhamento de informação.\n",
    "Imagem Conceito: Uma imagem de um código Python.\n",
    "\n",
    "Slide 8:\n",
    "## Tipos de Visualização X Objetivo de Comunicação\n",
    "Existe um diagrama que indica quais gráficos podem ser utilizados de acordo com o seu objetivo.\n",
    "Imagem Conceito: Uma imagem de um diagrama.\n",
    "\n",
    "Slide 9:\n",
    "## Vamos começar?\n",
    "Agora que toda a teoria necessária está explicada, vamos começar a trabalhar! Na próxima aula, iremos aprender sobre o Google Colab, a ferramenta que escolhemos para conduzir o restante deste curso!\n",
    "Imagem Conceito: Uma imagem de um computador com o Google Colab aberto.\"\"\"\n",
    "\n",
    "response = qe.query(comando)\n",
    "print(str(response))\n"
   ]
  },
  {
   "cell_type": "code",
   "execution_count": null,
   "metadata": {},
   "outputs": [],
   "source": []
  }
 ],
 "metadata": {
  "kernelspec": {
   "display_name": "venv",
   "language": "python",
   "name": "python3"
  },
  "language_info": {
   "codemirror_mode": {
    "name": "ipython",
    "version": 3
   },
   "file_extension": ".py",
   "mimetype": "text/x-python",
   "name": "python",
   "nbconvert_exporter": "python",
   "pygments_lexer": "ipython3",
   "version": "3.9.6"
  },
  "orig_nbformat": 4
 },
 "nbformat": 4,
 "nbformat_minor": 2
}
