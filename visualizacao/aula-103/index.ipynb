{
  "cells": [
    {
      "attachments": {},
      "cell_type": "markdown",
      "metadata": {
        "colab_type": "text",
        "id": "view-in-github"
      },
      "source": [
        "<a href=\"https://colab.research.google.com/github/labeduc/ciencia-de-dados/blob/main/visualizacao/aula-103/index.ipynb\" target=\"_parent\"><img src=\"https://colab.research.google.com/assets/colab-badge.svg\" alt=\"Open In Colab\"/></a>"
      ]
    },
    {
      "attachments": {},
      "cell_type": "markdown",
      "metadata": {
        "id": "5Bplj3JX9CQw"
      },
      "source": [
        "# [VDP] Aula 03 - Formatos de Dados"
      ]
    },
    {
      "attachments": {},
      "cell_type": "markdown",
      "metadata": {
        "id": "YyoacQFD9BQi"
      },
      "source": [
        "### Introdução"
      ]
    },
    {
      "attachments": {},
      "cell_type": "markdown",
      "metadata": {
        "id": "SJXwelgJ9BQj"
      },
      "source": [
        "Olá Cientista de Dados!\n",
        "\n",
        "Nesta aula, vamos aprender um pouco mais sobre os formatos utilizados para armazenar dados que nossas visualizações irão consumir."
      ]
    },
    {
      "attachments": {},
      "cell_type": "markdown",
      "metadata": {
        "id": "cl1wI-B09BQj"
      },
      "source": [
        "### Fontes de dados e seus formatos"
      ]
    },
    {
      "attachments": {},
      "cell_type": "markdown",
      "metadata": {
        "id": "EjdUKetv9BQj"
      },
      "source": [
        "Para realizarmos nossas tarefas como Cientistas de Dados, é necessário que acessemos aquilo que nos é mais caro, o nosso combustível: os dados.\n",
        "\n",
        "Estes dados vem das mais diversas fontes: websites, dispositivos IoT, bancos de dados, documentos, ... Estas diferentes fontes significam que os dados possuem diferentes formatos, e uma de nossas tarefas é transformar este dado em um formato com o qual seja possível trabalhar e gerar os resultados esperados.\n",
        "\n",
        "Dentro da área de Ciência da Computação, o formato mais utilizado para servir como base para o processamento de informação é o formato tabular. "
      ]
    },
    {
      "attachments": {},
      "cell_type": "markdown",
      "metadata": {
        "id": "QC-kf5lJ9BQj"
      },
      "source": [
        "#### Formato Tabular"
      ]
    },
    {
      "attachments": {},
      "cell_type": "markdown",
      "metadata": {
        "id": "I-kXIWw69BQj"
      },
      "source": [
        "O formato tabular é utilizado para descrever uma estrutura de dados organizada em linhas e colunas, formando uma tabela. É um formato muito utilizado em bancos de dados relacionais e em arquivos CSV (Comma-Separated Values), onde cada linha representa um registro ou observação e cada coluna representa uma variável ou campo. Esse formato é muito útil para representar dados estruturados de forma clara e organizada, permitindo a fácil manipulação e análise dos dados.\n",
        "\n",
        "Abaixo, temos um exemplo prático de como podemos utilizar Python para carregar um arquivo CSV em nosso notebook."
      ]
    },
    {
      "cell_type": "code",
      "execution_count": 13,
      "metadata": {
        "id": "F6NgM95X9BQk",
        "outputId": "255b5160-8854-4a78-8632-97e74c6924b9"
      },
      "outputs": [
        {
          "name": "stdout",
          "output_type": "stream",
          "text": [
            "<_io.TextIOWrapper encoding='UTF-8'>\n",
            "['Nome', 'Idade', 'Cidade']\n",
            "['Maria', '25', 'São Paulo']\n",
            "['João', '30', 'Rio de Janeiro']\n",
            "['Ana', '20', 'Belo Horizonte']\n",
            "['Andre', '23', 'Porto Alegre']\n"
          ]
        }
      ],
      "source": [
        "import csv\n",
        "import urllib # biblioteca para carregar o arquivo da internet\n",
        "from io import TextIOWrapper # biblioteca para transformar o arquivo\n",
        "\n",
        "# Abre o arquivo CSV em modo leitura\n",
        "arquivo_csv = TextIOWrapper(urllib.request.urlopen('https://raw.githubusercontent.com/labeduc/ciencia-de-dados/main/visualizacao/aula-103/exemplo.csv'))\n",
        "\n",
        "# Cria um objeto para ler o arquivo CSV\n",
        "leitor_csv = csv.reader(arquivo_csv, delimiter=',')\n",
        "\n",
        "# Percorre as linhas do arquivo CSV\n",
        "for linha in leitor_csv:\n",
        "    print(linha)"
      ]
    },
    {
      "attachments": {},
      "cell_type": "markdown",
      "metadata": {
        "id": "O2yGViAr9BQl"
      },
      "source": [
        "Neste exemplo, utilizamos a função open para abrir o arquivo CSV em modo leitura e, em seguida, criamos um objeto csv.reader para ler o arquivo CSV. Utilizamos o parâmetro delimiter para indicar o caractere separador utilizado no arquivo CSV (no caso, a vírgula). Em seguida, utilizamos um loop for para percorrer as linhas do arquivo CSV e imprimir cada uma delas na tela.\n",
        "\n",
        "Note que, neste exemplo, o resultado é uma lista de listas, onde cada lista interna representa uma linha do arquivo CSV. Para manipular os dados, é necessário fazer a conversão manualmente para o formato desejado.\n",
        "\n",
        "E, apesar deste formato ser adequado ao processamento dos dados para visualização, ainda precisamos fazer alguns ajustes até chegar ao formato ideal."
      ]
    },
    {
      "attachments": {},
      "cell_type": "markdown",
      "metadata": {
        "id": "ZK1KRpIM9BQl"
      },
      "source": [
        "### Otimizando o Formato Tabular"
      ]
    },
    {
      "attachments": {},
      "cell_type": "markdown",
      "metadata": {
        "id": "zIWzulDd9BQl"
      },
      "source": [
        "O formato tabular padrão também pode ser referenciado pelo termo 'Formato Largo' (Wide format em inglês), por sua característica de organização em linhas e colunas, com a linha sendo uma observação e as colunas sendo as variáveis da observação. Isto pode ser percebido pelo formato que nossos código percorrem os arquivos ou selecionam a informação de um banco de dados: sempre pensando em extrair linhas que depois são usadas em algum tipo de processamento. Isso gera o que chamamos de overhead no processamento, porque por vezes precisamos apenas fazer o processamento de uma coluna de dados, mas somos obrigados a acessar todas as colunas para depois selecionar a coluna que queremos.\n",
        "\n",
        "Para resolver essa questão, foi criado um caso especial de formato tabular, o chamado 'Formato Longo' (Long format em inglês), onde a orientação da organização dos dados é colunas e linhas, ou seja, podemos acessar uma coluna individualmente, com todas as suas linhas."
      ]
    },
    {
      "attachments": {},
      "cell_type": "markdown",
      "metadata": {
        "id": "xn9dK-JO9BQl"
      },
      "source": [
        "![Formato Longo X Formato Largo](https://github.com/labeduc/ciencia-de-dados/blob/main/visualizacao/aula-103/df_long_x_wide_form.png?raw=1)"
      ]
    },
    {
      "attachments": {},
      "cell_type": "markdown",
      "metadata": {
        "id": "SluoaGew9BQl"
      },
      "source": [
        "Em Python e em muitas outras linguagens de programação que são utilizadas para Ciência de Dados, o formato tabular é representado por estruturas de dados especiais, chamadas de `DataFrames` e `Series`.\n",
        "\n",
        "Mas antes de explicar em mais detalhes essas estruturas, vamos conhecer um pouco das suas origens."
      ]
    },
    {
      "attachments": {},
      "cell_type": "markdown",
      "metadata": {
        "id": "e2BdYiFE9BQl"
      },
      "source": [
        "### Dicionários e Listas"
      ]
    },
    {
      "attachments": {},
      "cell_type": "markdown",
      "metadata": {
        "id": "nIK-bsb19BQl"
      },
      "source": [
        "Se você já conhece o básico de Python, já aprendeu que temos os tipos de dados conhecidos como listas e dicionário de dados. Com estes tipos, podemos representar dados mais complexos, como uma sequência ou um objeto, que são compostos de vários tipos simples. Se você quiser aprender mais sobre listas e dicionários, vá para o final deste notebook.\n",
        "\n",
        "Em Python, a representação de dados no formato tabular, seja longo ou largo, passa pela combinação destes dois tipos de dados."
      ]
    },
    {
      "attachments": {},
      "cell_type": "markdown",
      "metadata": {
        "id": "zRbncL3q9BQl"
      },
      "source": [
        "#### Representação em Python do Formato Largo"
      ]
    },
    {
      "attachments": {},
      "cell_type": "markdown",
      "metadata": {
        "id": "hFtWFk0P9BQl"
      },
      "source": [
        "Para criar um objeto em Python que represente um conjunto de dados no Formato Largo, é necessário montar uma lista de dicionários."
      ]
    },
    {
      "cell_type": "code",
      "execution_count": null,
      "metadata": {
        "id": "qN2aWhSS9BQl"
      },
      "outputs": [],
      "source": [
        "dados_largos = [\n",
        "    {\"codigo\": 1, \"nome\": \"Jose\"},\n",
        "    {\"codigo\": 2, \"nome\": \"Maria\"},\n",
        "    {\"codigo\": 3, \"nome\": \"Fernandez\"}\n",
        "]"
      ]
    },
    {
      "attachments": {},
      "cell_type": "markdown",
      "metadata": {
        "id": "bhs-xZvu9BQm"
      },
      "source": [
        "Neste objeto, temos uma lista que contém 3 elementos. Cada elemento é um dicionário com dois campos. Conforme explicamos anteriormente, no formato largo, para acessar o nome de uma pessoa, precisamos identificar em que linha ela está. Para identificar a linha, percorremos nossa lista. Para inspecionar o nome, recuperamos todo o dicionário que está naquela posição da lista."
      ]
    },
    {
      "attachments": {},
      "cell_type": "markdown",
      "metadata": {
        "id": "L0mdgsTY9BQm"
      },
      "source": [
        "#### Representação em Python do Formato Longo"
      ]
    },
    {
      "attachments": {},
      "cell_type": "markdown",
      "metadata": {
        "id": "VxzDFzx79BQm"
      },
      "source": [
        "Para criar um objeto em Python que represente um conjunto de dados no Formato Longo, é necessário montar um dicionário de listas."
      ]
    },
    {
      "cell_type": "code",
      "execution_count": null,
      "metadata": {
        "id": "3kC9uVDw9BQm"
      },
      "outputs": [],
      "source": [
        "dados_longos = {\n",
        "                \"codigo\": [1,2,3], \n",
        "                \"nome\": [\"Jose\",\"Maria\",\"Fernandez\"]\n",
        "               }"
      ]
    },
    {
      "attachments": {},
      "cell_type": "markdown",
      "metadata": {
        "id": "e7fjXbu49BQm"
      },
      "source": [
        "Neste objeto, temos o dicionário com seus campos, e cada campo é uma lista com os valores para cada linha."
      ]
    },
    {
      "attachments": {},
      "cell_type": "markdown",
      "metadata": {
        "id": "-nHZ9uRy9BQm"
      },
      "source": [
        "#### Entendendo a diferença"
      ]
    },
    {
      "attachments": {},
      "cell_type": "markdown",
      "metadata": {
        "id": "YBsS5l3W9BQm"
      },
      "source": [
        "Vamos ver um exemplo prático para entender a diferença entre os dois. Acompanhe no código abaixo e leia os comentários."
      ]
    },
    {
      "cell_type": "code",
      "execution_count": null,
      "metadata": {
        "id": "vrzmid9K9BQm",
        "outputId": "bdde9533-3593-4713-a566-57fbf6e418bb"
      },
      "outputs": [
        {
          "name": "stdout",
          "output_type": "stream",
          "text": [
            "Maria\n",
            "Maria\n"
          ]
        }
      ],
      "source": [
        "# Queremos saber o nome do usuário que está na segunda linha do nosso conjunto de dados.\n",
        "\n",
        "# Formato largo\n",
        "print(dados_largos[1][\"nome\"]) # utilizamos o indice 1 porque em Python listas começam no indice 0\n",
        "\n",
        "# Formato longo\n",
        "print(dados_longos[\"nome\"][1]) # apenas invertemos a referência - primeiro a coluna, depois a linha"
      ]
    },
    {
      "attachments": {},
      "cell_type": "markdown",
      "metadata": {
        "id": "G1f4ub_s9BQm"
      },
      "source": [
        "A diferença parece pouca, certo? Apenas invertemos como os indices são acessados, onde está a tal otimização?\n",
        "\n",
        "A otimização está no fato de que, ao acessar a linha de um dado no formato largo, estamos acessando todas as colunas de informação daquela linha."
      ]
    },
    {
      "cell_type": "code",
      "execution_count": null,
      "metadata": {
        "id": "v8UT63tp9BQm",
        "outputId": "7e65258e-7ef6-4574-8e65-1f46b9e27269"
      },
      "outputs": [
        {
          "name": "stdout",
          "output_type": "stream",
          "text": [
            "{'codigo': 2, 'nome': 'Maria'}\n"
          ]
        }
      ],
      "source": [
        "print(dados_largos[1])"
      ]
    },
    {
      "attachments": {},
      "cell_type": "markdown",
      "metadata": {
        "id": "kPS_VuoJ9BQm"
      },
      "source": [
        "Já no formato longo, antes de especificar a linha, eu preciso referenciar a coluna, portanto, sempre terei apenas um valor."
      ]
    },
    {
      "cell_type": "code",
      "execution_count": null,
      "metadata": {
        "id": "XxAfoLr19BQm",
        "outputId": "a20878ae-036a-4a0a-b245-96299f02a81f"
      },
      "outputs": [
        {
          "name": "stdout",
          "output_type": "stream",
          "text": [
            "Maria\n"
          ]
        }
      ],
      "source": [
        "print(dados_longos[\"nome\"][1])"
      ]
    },
    {
      "attachments": {},
      "cell_type": "markdown",
      "metadata": {
        "id": "dacGkVZJ9BQn"
      },
      "source": [
        "### DataFrames e Series"
      ]
    },
    {
      "attachments": {},
      "cell_type": "markdown",
      "metadata": {
        "id": "Aqbrg_Q-9BQn"
      },
      "source": [
        "O DataFrame e as Series são dois dos principais conceitos utilizados para trabalhar com dados em Python. Ambos estão presentes na biblioteca Pandas, que é uma das ferramentas mais usadas para análise de dados. \n",
        "\n",
        "O DataFrame é um objeto que tem como base o conceito de dicionário de listas, onde as listas são representadas por Series. O DataFrame adiciona uma série de funcionalidades ao dicionário de listas, simplificando a manipulação dos mesmos. \n",
        "\n",
        "Exemplo de código: "
      ]
    },
    {
      "cell_type": "code",
      "execution_count": null,
      "metadata": {
        "id": "h3ljYGGA9BQn",
        "outputId": "2b4908bd-a94b-4a00-d9ef-d672795df612"
      },
      "outputs": [
        {
          "name": "stdout",
          "output_type": "stream",
          "text": [
            "9\n"
          ]
        }
      ],
      "source": [
        "import pandas as pd \n",
        "df = pd.DataFrame([[1, 2, 3], [4, 5, 6], [7, 8, 9]]) \n",
        "print(df[2][2])"
      ]
    },
    {
      "attachments": {},
      "cell_type": "markdown",
      "metadata": {
        "id": "Lt8NgqPv9BQn"
      },
      "source": [
        "A Series é uma lista com superpoderes. Assim como o DataFrame, a Series acrescenta muitas facilidades para manipular a lista. \n",
        "Exemplo de código: "
      ]
    },
    {
      "cell_type": "code",
      "execution_count": null,
      "metadata": {
        "id": "TKnCWEq_9BQn",
        "outputId": "0a53b3dd-0bbe-4534-d41b-4d2acb11a856"
      },
      "outputs": [
        {
          "name": "stdout",
          "output_type": "stream",
          "text": [
            "3\n"
          ]
        }
      ],
      "source": [
        "import pandas as pd \n",
        "s = pd.Series([1, 2, 3]) \n",
        "print(s[2])"
      ]
    },
    {
      "attachments": {},
      "cell_type": "markdown",
      "metadata": {
        "id": "MTwDeLzD9BQn"
      },
      "source": [
        "\n",
        "\n",
        " Além do Pandas existem outras bibliotecas que utilizam esses conceitos para trabalhar com dados como NumPy (Numerical Python), SciPy (Scientific Python) e Scikit-learn (Machine Learning)."
      ]
    },
    {
      "attachments": {},
      "cell_type": "markdown",
      "metadata": {
        "id": "qu89TyUm9BQn"
      },
      "source": [
        "### Finalizando"
      ]
    },
    {
      "attachments": {},
      "cell_type": "markdown",
      "metadata": {
        "id": "dwoNzCq39BQn"
      },
      "source": [
        "Nesta aula, aprendemos sobre os formatos de dados que podemos utilizar em nossas visualizações e conhecemos mais detalhes dos DataFrames e Series. \n",
        "\n",
        "Aqui temos alguns links sobre o assunto:\n",
        "- [Listas](https://docs.python.org/3/library/stdtypes.html#list)\n",
        "- [Dicionários](https://docs.python.org/3/library/stdtypes.html#mapping-types-dict)"
      ]
    }
  ],
  "metadata": {
    "colab": {
      "include_colab_link": true,
      "provenance": []
    },
    "kernelspec": {
      "display_name": "Python 3",
      "language": "python",
      "name": "python3"
    },
    "language_info": {
      "codemirror_mode": {
        "name": "ipython",
        "version": 3
      },
      "file_extension": ".py",
      "mimetype": "text/x-python",
      "name": "python",
      "nbconvert_exporter": "python",
      "pygments_lexer": "ipython3",
      "version": "3.9.6"
    },
    "orig_nbformat": 4,
    "vscode": {
      "interpreter": {
        "hash": "17336511cfc22a5efe85086c85928a6ae78a60927f6cd52b73de8a45ee5e21f9"
      }
    }
  },
  "nbformat": 4,
  "nbformat_minor": 0
}
