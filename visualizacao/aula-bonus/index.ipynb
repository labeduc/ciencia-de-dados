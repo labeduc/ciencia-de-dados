{
  "cells": [
    {
      "attachments": {},
      "cell_type": "markdown",
      "metadata": {
        "colab_type": "text",
        "id": "view-in-github"
      },
      "source": [
        "<a href=\"https://colab.research.google.com/github/labeduc/ciencia-de-dados/blob/main/visualizacao/aula-bonus/index.ipynb\" target=\"_parent\"><img src=\"https://colab.research.google.com/assets/colab-badge.svg\" alt=\"Open In Colab\"/></a>"
      ]
    },
    {
      "attachments": {},
      "cell_type": "markdown",
      "metadata": {
        "id": "iS3foCEXJnkp"
      },
      "source": [
        "# [VDP] Aula Bonus - Gráfico teia de aranha"
      ]
    },
    {
      "attachments": {},
      "cell_type": "markdown",
      "metadata": {
        "id": "U6-xenUZJmeB"
      },
      "source": [
        "## Introdução"
      ]
    },
    {
      "attachments": {},
      "cell_type": "markdown",
      "metadata": {
        "id": "Ju0Cf4q4JmeC"
      },
      "source": [
        "Olá Cientista de Dados!\n",
        "\n",
        "Nesta aula bônus, apresentaremos o gráfico teia de aranha, também conhecido como gráfico de radar. Este tipo de gráfico é amplamente utilizado para analisar a distribuição de valores normalizados entre diferentes variáveis, que podem ser correlacionadas para avaliações de forças e/ou fraquezas, auxiliando na tomada de decisões.\n",
        "\n",
        "Para ilustrar melhor o uso dos gráficos de radar, vamos fazer uma comparação entre dois personagens de RPG. Cada personagem possui um conjunto de atributos, como força, agilidade, inteligência, vitalidade e carisma. Usando o gráfico de radar, podemos visualizar de maneira clara e concisa como esses atributos se distribuem para cada personagem, facilitando a análise de seus pontos fortes e fracos.\n",
        "\n",
        "Neste exemplo, criaremos um gráfico polar que permite comparar diretamente os status de dois personagens, ajudando a identificar rapidamente em quais aspectos um personagem pode ser superior ao outro. Essa técnica é extremamente útil não só em jogos, mas também em diversas áreas de análise de dados onde é necessário comparar múltiplas dimensões de dados simultaneamente.\n",
        "\n",
        "Vamos explorar juntos essa poderosa ferramenta visual e ver como ela pode ser aplicada para tomar decisões informadas baseadas em dados!\n"
      ]
    },
    {
      "attachments": {},
      "cell_type": "markdown",
      "metadata": {
        "id": "YHXnOCOlJmeC"
      },
      "source": [
        "## Analisando apenas um personagem"
      ]
    },
    {
      "cell_type": "code",
      "execution_count": null,
      "metadata": {
        "id": "nrlIqkw-JmeC"
      },
      "outputs": [],
      "source": [
        "import plotly.express as px\n",
        "import pandas as pd\n",
        "\n",
        "# Dados representando status de um personagem de RPG\n",
        "df = pd.DataFrame(dict(\n",
        "    # Representa valores de atributos\n",
        "    attributes=[10, 8, 6, 7, 9],  \n",
        "    # Nome dos atributos\n",
        "    status=['força', 'agilidade', 'inteligência', 'vitalidade', 'carisma']\n",
        "))\n",
        "\n",
        "# Criação de um gráfico polar (radar plot) para os status do personagem\n",
        "fig = px.line_polar(df, r='attributes', theta='status', line_close=True)\n",
        "fig.show()"
      ]
    },
    {
      "attachments": {},
      "cell_type": "markdown",
      "metadata": {
        "id": "xhTiAFWiJmeD"
      },
      "source": [
        "## Analisando dois personagens ao mesmo tempo"
      ]
    },
    {
      "cell_type": "code",
      "execution_count": 2,
      "metadata": {
        "id": "s1uKb9VTJmeD",
        "outputId": "dfeb7969-ac13-4ea3-9d37-50b495170a0c"
      },
      "outputs": [
        {
          "data": {
            "text/html": [
              "<span style=\"None\">Running query in &#x27;duckdb:///:memory:&#x27;</span>"
            ],
            "text/plain": [
              "Running query in 'duckdb:///:memory:'"
            ]
          },
          "metadata": {},
          "output_type": "display_data"
        },
        {
          "data": {
            "text/html": [
              "<table>\n",
              "    <thead>\n",
              "        <tr>\n",
              "            <th>Count</th>\n",
              "        </tr>\n",
              "    </thead>\n",
              "    <tbody>\n",
              "        <tr>\n",
              "            <td>607</td>\n",
              "        </tr>\n",
              "    </tbody>\n",
              "</table>"
            ],
            "text/plain": [
              "+-------+\n",
              "| Count |\n",
              "+-------+\n",
              "|  607  |\n",
              "+-------+"
            ]
          },
          "execution_count": 2,
          "metadata": {},
          "output_type": "execute_result"
        }
      ],
      "source": [
        "import plotly.express as px\n",
        "import pandas as pd\n",
        "\n",
        "# Dados representando status de dois personagens de RPG\n",
        "df = pd.DataFrame(dict(\n",
        "    # Nome dos personagens\n",
        "    character=['Personagem 1', 'Personagem 1', 'Personagem 1', 'Personagem 1', 'Personagem 1',\n",
        "               'Personagem 2', 'Personagem 2', 'Personagem 2', 'Personagem 2', 'Personagem 2'],  \n",
        "    # Nome dos atributos\n",
        "    status=['força', 'agilidade', 'inteligência', 'vitalidade', 'carisma',\n",
        "            'força', 'agilidade', 'inteligência', 'vitalidade', 'carisma'],  \n",
        "    # Valores dos atributos para cada personagem\n",
        "    attributes=[10, 8, 6, 7, 9, \n",
        "                8, 9, 8, 6, 8]  \n",
        "))\n",
        "\n",
        "# Criação de um gráfico polar (radar plot) para comparar os status dos dois personagens\n",
        "fig = px.line_polar(df, r='attributes', theta='status', color='character', line_close=True)\n",
        "fig.show()"
      ]
    },
    {
      "attachments": {},
      "cell_type": "markdown",
      "metadata": {
        "id": "DBG6hnoIJmeF"
      },
      "source": [
        "## Conclusão"
      ]
    },
    {
      "attachments": {},
      "cell_type": "markdown",
      "metadata": {
        "id": "PONPIL-gJmeF"
      },
      "source": [
        "Parabéns, Cientista de Dados, por concluir esta aula bônus sobre gráficos de radar!\n",
        "\n",
        "Exploramos os passos para criar gráficos de radar no Python com a biblioteca Plotly e vimos como configurar e personalizar os gráficos para destacar informações importantes. A comparação de atributos de nossos personagens mostrou como podemos revelar forças e fraquezas de forma visual, auxiliando na tomada de decisões informada.\n",
        "\n",
        "Com esta habilidade, você está agora mais capacitado a utilizar gráficos de radar em suas análises de dados, sejam elas para contextos de negócios, pesquisa ou mesmo em aplicações criativas como jogos. Experimente aplicar esta técnica em seus próprios conjuntos de dados e veja como ela pode transformar a maneira como apresenta e interpreta informações complexas.\n",
        "\n",
        "Continue explorando e aprofundando seus conhecimentos em visualização de dados. Cada nova ferramenta aprendida é mais uma peça no seu arsenal de cientista de dados, pronta para ser utilizada em suas próximas análises e projetos."
      ]
    }
  ],
  "metadata": {
    "colab": {
      "include_colab_link": true,
      "provenance": []
    },
    "kernelspec": {
      "display_name": "venv",
      "language": "python",
      "name": "python3"
    },
    "language_info": {
      "codemirror_mode": {
        "name": "ipython",
        "version": 3
      },
      "file_extension": ".py",
      "mimetype": "text/x-python",
      "name": "python",
      "nbconvert_exporter": "python",
      "pygments_lexer": "ipython3",
      "version": "3.9.6"
    },
    "orig_nbformat": 4
  },
  "nbformat": 4,
  "nbformat_minor": 0
}
