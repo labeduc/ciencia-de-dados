{
  "cells": [
    {
      "cell_type": "markdown",
      "metadata": {
        "id": "view-in-github",
        "colab_type": "text"
      },
      "source": [
        "<a href=\"https://colab.research.google.com/github/labeduc/ciencia-de-dados/blob/main/visualizacao/aula-teste-dados/index.ipynb\" target=\"_parent\"><img src=\"https://colab.research.google.com/assets/colab-badge.svg\" alt=\"Open In Colab\"/></a>"
      ]
    },
    {
      "cell_type": "markdown",
      "source": [
        "# [VDP] - Teste de Dados - Básico"
      ],
      "metadata": {
        "id": "49N_9Yu2NXpM"
      }
    },
    {
      "cell_type": "markdown",
      "metadata": {
        "id": "E6F8Ln-oIRaT"
      },
      "source": [
        "Olá Cientistas de Dados!\n",
        "\n",
        "\n",
        "Quando trabalhamos com dados, é necessário que, além de desenvolver todas as transformações necessárias para que os dados estejam prontos para serem utilizados na execução de análises, tenhamos uma maneira de validar a correção e validade dos dados segundo as regras que foram determinadas.\n",
        "\n",
        "Uma maneira automatizada e eficiente de fazer isso é através da criação de testes unitários que validem os dados de acordo com as regras estabelecidas.\n",
        "\n",
        "Vamos começar???"
      ]
    },
    {
      "cell_type": "markdown",
      "metadata": {
        "id": "WWhJbOiFNP_p"
      },
      "source": [
        "## Obtendo os Dados"
      ]
    },
    {
      "cell_type": "code",
      "source": [],
      "metadata": {
        "id": "SVfc0oiBBylO"
      },
      "execution_count": null,
      "outputs": []
    },
    {
      "cell_type": "markdown",
      "metadata": {
        "id": "KbP3xD56NP_q"
      },
      "source": [
        "\n",
        "Para este artigo, vamos carregar dados que apresentam alguns erros e vamos construir os testes unitários para valida-los."
      ]
    },
    {
      "cell_type": "code",
      "execution_count": null,
      "metadata": {
        "id": "DrurFPNHB6xi"
      },
      "outputs": [],
      "source": [
        "import pandas as pd"
      ]
    },
    {
      "cell_type": "code",
      "execution_count": null,
      "metadata": {
        "id": "f6SKjLnJCPPh"
      },
      "outputs": [],
      "source": [
        "df = pd.read_csv('https://media.githubusercontent.com/media/labeduc/datasets/main/testes/problematic_data.csv')"
      ]
    },
    {
      "cell_type": "markdown",
      "metadata": {
        "id": "c_ifdAggKN1z"
      },
      "source": [
        "Aqui podemos ver uma amostra dos dados:"
      ]
    },
    {
      "cell_type": "code",
      "execution_count": null,
      "metadata": {
        "id": "RoSOAPH8CaWl"
      },
      "outputs": [],
      "source": [
        "df.sample(5)"
      ]
    },
    {
      "cell_type": "markdown",
      "metadata": {
        "id": "Y942HHdfKuoY"
      },
      "source": [
        "Para iniciar o nosso processo de validação, precisamos realizar a primeira inspeção nos dados. Para isso, a biblioteca Pandas nos dá algumas funções bem interessantes.\n"
      ]
    },
    {
      "cell_type": "code",
      "execution_count": null,
      "metadata": {
        "id": "Ai9gSRF-NP_u"
      },
      "outputs": [],
      "source": [
        "# A função info() exibe informações sobre o DataFrame,\n",
        "# incluindo o tipo de dados de cada coluna,\n",
        "# valores não nulos e uso de memória.\n",
        "df.info()"
      ]
    },
    {
      "cell_type": "markdown",
      "metadata": {
        "id": "KTntdpy2NP_u"
      },
      "source": [
        "Podemos perceber 2 situações que demandam maior verificação:\n",
        "\n",
        "- A coluna Name tem 10 valores nulos, o que pode ser um problema para as regra de negócio;\n",
        "- A coluna Age (idade) tem todas as linhas preenchidas, mas seu tipo, em vez de ser um valor do tipo inteiro, é do tipo objeto, o que infica possível problema nos dados.\n",
        "\n",
        "O que a função info não nos mostra é a presença de valores duplicados, ou até mesmo uma linha inteira duplicada. Vamos então aprender como conseguir essas informações."
      ]
    },
    {
      "cell_type": "markdown",
      "metadata": {
        "id": "3gz9kizd4bIS"
      },
      "source": [
        "# Tipos de Validação"
      ]
    },
    {
      "cell_type": "markdown",
      "metadata": {
        "id": "sifJ0EPnWa0n"
      },
      "source": [
        "## Dataset está vazio"
      ]
    },
    {
      "cell_type": "markdown",
      "metadata": {
        "id": "2PaueMxiNP_v"
      },
      "source": [
        "A proprieadade `empty` do DataFrame nos informa se o DataFrame está vazio ou não. Se o DataFrame estiver vazio, a propriedade retornará `True`, caso contrário, retornará `False`."
      ]
    },
    {
      "cell_type": "code",
      "execution_count": null,
      "metadata": {
        "id": "BMAUdFP7Wl-9"
      },
      "outputs": [],
      "source": [
        "vazio = df.empty\n",
        "\n",
        "print(f\"{'' if vazio else 'Não'} está vazio\")"
      ]
    },
    {
      "cell_type": "markdown",
      "metadata": {
        "id": "LMOewvxIXhIL"
      },
      "source": [
        "## Coluna está vazia"
      ]
    },
    {
      "cell_type": "markdown",
      "metadata": {
        "id": "7PcS_7y7NP_w"
      },
      "source": [
        "A propriedade `empty` do DataFrame nos informa se a coluna está vazia ou não. Se a coluna estiver vazia, a propriedade retornará `True`, caso contrário, retornará `False`."
      ]
    },
    {
      "cell_type": "code",
      "execution_count": null,
      "metadata": {
        "id": "bd5RrYEjXk66"
      },
      "outputs": [],
      "source": [
        "vazio = df['Name'].empty\n",
        "\n",
        "print(f\" Coluna Name {'' if vazio else 'Não'} está vazia\")"
      ]
    },
    {
      "cell_type": "markdown",
      "metadata": {
        "id": "w-Nc2m8hBW8x"
      },
      "source": [
        "## Verificando Valores Nulos"
      ]
    },
    {
      "cell_type": "markdown",
      "metadata": {
        "id": "nOemQuvq4unY"
      },
      "source": [
        "Este teste visa descobrir se existem dados faltando em nosso dataset. Podemos testar de maneira geral ou coluna a coluna.\n",
        "Para isso, utilizamos a função `isnull()` que retorna `True` para valores nulos e `False` para valores não nulos."
      ]
    },
    {
      "cell_type": "code",
      "execution_count": null,
      "metadata": {
        "id": "bDsB9mMKCzJb"
      },
      "outputs": [],
      "source": [
        "# Testando se existe algum valor nulo\n",
        "valores_nulos = df.isnull().values.any()\n",
        "\n",
        "print(f\"{'' if valores_nulos else 'Náo'} Existem Valores Nulos.\")"
      ]
    },
    {
      "cell_type": "code",
      "execution_count": null,
      "metadata": {
        "id": "LwNQGMHXB1lC"
      },
      "outputs": [],
      "source": [
        "# O teste pode ser feito para uma coluna específica\n",
        "valores_nulos = df['Name'].isnull().values.any()\n",
        "\n",
        "print(f\"A coluna Name {'tem' if valores_nulos else 'não tem'} valores nulos.\")"
      ]
    },
    {
      "cell_type": "code",
      "execution_count": null,
      "metadata": {
        "id": "VufsratTbbWs"
      },
      "outputs": [],
      "source": [
        "# O teste pode ser feito para uma coluna específica\n",
        "valores_nulos = df['Age'].isnull().values.any()\n",
        "\n",
        "print(f\"A coluna Age {'tem' if valores_nulos else 'não tem'} valores nulos.\")"
      ]
    },
    {
      "cell_type": "markdown",
      "metadata": {
        "id": "KPh-UC28QCgS"
      },
      "source": [
        "## Verificando os tipos de dados"
      ]
    },
    {
      "cell_type": "markdown",
      "metadata": {
        "id": "P-z32KL3Q1pr"
      },
      "source": [
        "Este teste visa verificar se o tipo de dados de uma coluna em todas as linhas do seu dataset é consistente com o objetivo de uso desta coluna. Por exemplo, vimos nos exemplos de dados, que a coluna Age está identificada com o tipo de dados objeto, o que certamente nos causará problemas se quisermos calcular a média de idade de nosso dataset, pois é um indicativo de que em alguma linha desta coluna, o valor não é numérico. Podemos fazer uma inspeção manual, já que estamos falando apenas de 50 linhas, mas vamos aprender a fazer isso de maneira automatizada."
      ]
    },
    {
      "cell_type": "code",
      "execution_count": null,
      "metadata": {
        "id": "MwXGDJcPRvfH"
      },
      "outputs": [],
      "source": [
        "# Testando se a coluna Age é do tipo numérico\n",
        "# A função isna() retorna um DataFrame de valores booleanos que indicam se um elemento é um número ou não.\n",
        "eh_numero = df['Age'].isna().values.any()\n",
        "\n",
        "print(f\"A coluna Age {'é' if eh_numero else 'não é'} do tipo numérico.\")"
      ]
    },
    {
      "cell_type": "markdown",
      "metadata": {
        "id": "rky4VVH4NP_x"
      },
      "source": [
        "Mas que valor é este? Vamos usar outra função para descobrir."
      ]
    },
    {
      "cell_type": "code",
      "execution_count": null,
      "metadata": {
        "id": "bRR_svKUNP_y"
      },
      "outputs": [],
      "source": [
        "# A função unique() retorna uma matriz de valores exclusivos em uma coluna.\n",
        "# A função tolist() converte a matriz em uma lista.\n",
        "print(f\" Valores únicos de Age: {df['Age'].unique().tolist()}\")"
      ]
    },
    {
      "cell_type": "markdown",
      "metadata": {
        "id": "80TxDQkjNP_y"
      },
      "source": [
        "Ao usar a função `unique()`, podemos descobrir quais são os valores únicos de uma coluna. Se a coluna tiver um tipo de dados numérico, a função retornará uma lista de valores únicos. Se a coluna tiver um tipo de dados não numérico, a função retornará uma lista de strings.\n",
        "Existem uma ou mais linhas com o valor 'Unknown' na coluna Age, o que causa o comportamento que vimos anteriormente. Esse é mais um dos problemas a serem corrigidos, que o nosso teste unitário vai nos ajudar a identificar."
      ]
    },
    {
      "cell_type": "markdown",
      "metadata": {
        "id": "lDDcuComTlbO"
      },
      "source": [
        "# Outros Tipos de Validação"
      ]
    },
    {
      "cell_type": "markdown",
      "metadata": {
        "id": "qRCB__I6VjM8"
      },
      "source": [
        "Veja abaixo alguns outros tipos de validação comum em testes de dados"
      ]
    },
    {
      "cell_type": "markdown",
      "metadata": {
        "id": "i3HolyAtpdlm"
      },
      "source": [
        "## Teste contra valores"
      ]
    },
    {
      "cell_type": "markdown",
      "metadata": {
        "id": "t2CyCP4QqHzD"
      },
      "source": [
        "Neste tipo de teste, verificamos se as colunas do nosso dataset respeitam, por exemplo, valores mínimos, máximos, conjunto especificos e limitados de opções, se obedecem a uma lógica dependente de outras colunas, etc."
      ]
    },
    {
      "cell_type": "markdown",
      "metadata": {
        "id": "-T3VKKaJqb5s"
      },
      "source": [
        "### Apenas maiores de 40 anos"
      ]
    },
    {
      "cell_type": "code",
      "execution_count": null,
      "metadata": {
        "id": "nOnJfnDPqlbE"
      },
      "outputs": [],
      "source": [
        "# Primeiro vamos corrigir os unknown\n",
        "\n",
        "df['Age'] = (df['Age'].apply(lambda x: 40 if x == 'Unknown' else x)).astype(int)\n",
        "\n",
        "\n",
        "# Agora fazemos a validação\n",
        "\n",
        "menores_de_quarenta = df.query('Age < 40').empty\n",
        "\n",
        "print(f\"{'Não Temos' if menores_de_quarenta else 'Temos'} menores de quarenta\")"
      ]
    },
    {
      "cell_type": "markdown",
      "metadata": {
        "id": "v-Lz0Vnn0CVT"
      },
      "source": [
        "### Verifica contra Lista de Valores\n"
      ]
    },
    {
      "cell_type": "code",
      "execution_count": null,
      "metadata": {
        "id": "hj7yC7HG5dYG"
      },
      "outputs": [],
      "source": [
        "#\n",
        "categoria_invalida = (df['Category'].apply(lambda x: x not in ['Category A', 'Category B', 'Category C'])).empty\n",
        "\n",
        "print(f\"{'Não tem' if categoria_invalida else 'Tem'} categorias invalidas.\")"
      ]
    },
    {
      "cell_type": "markdown",
      "metadata": {
        "id": "eNSrEQfwEzw6"
      },
      "source": [
        "## EDA"
      ]
    },
    {
      "cell_type": "markdown",
      "metadata": {
        "id": "m4MA0Ri_NP_0"
      },
      "source": [
        "`EDA` é a sigla para `Exploratory Data Analysis`, que em português significa `Análise Exploratória de Dados`. Este tipo de teste visa verificar se os dados estão de acordo com o esperado, ou seja, se estão dentro de um intervalo esperado, se não há outliers, se a distribuição dos dados está correta, etc. Ou seja, é uma análise mais aprofundada dos dados, que fazem validações mais complexas e de cunho estatístico."
      ]
    },
    {
      "cell_type": "markdown",
      "metadata": {
        "id": "nTZEmUlBNP_0"
      },
      "source": [
        "Para nos ajudar com essa análise, podemos utilizar a função `describe()` do Pandas, que nos dá um resumo estatístico dos dados."
      ]
    },
    {
      "cell_type": "code",
      "execution_count": null,
      "metadata": {
        "id": "QzhKT1xrNP_0"
      },
      "outputs": [],
      "source": [
        "df.describe()"
      ]
    },
    {
      "cell_type": "markdown",
      "metadata": {
        "id": "EJh64aIhNP_1"
      },
      "source": [
        "Como podemos ver, a função `describe()` nos dá um resumo estatístico dos dados numéricos, como a média, desvio padrão, mínimo, máximo, etc. Com essas informações, podemos fazer validações mais complexas, como verificar se a média de idade está dentro de um intervalo esperado, se a distribuição dos dados está correta, etc. Mas, como podemos ver, a coluna Age não está sendo considerada como numérica, o que nos impede de fazer essas validações. Vamos corrigir isso."
      ]
    },
    {
      "cell_type": "code",
      "execution_count": null,
      "metadata": {
        "id": "VlpDyxwXNP_1"
      },
      "outputs": [],
      "source": [
        "# A correção aplicada foi a substituição dos valores 'Unknown' por 40 e a conversão para inteiro.\n",
        "# Por que 40? Porque é um valor que não altera a média e a mediana dos dados.\n",
        "\n",
        "df['Age'] = df['Age'].apply(lambda x: 40 if x == 'Unknown' else x).astype(int)"
      ]
    },
    {
      "cell_type": "code",
      "execution_count": null,
      "metadata": {
        "id": "bhQLFP9_NP_1"
      },
      "outputs": [],
      "source": [
        "df.describe()"
      ]
    },
    {
      "cell_type": "markdown",
      "metadata": {
        "id": "xCtISjWWNP_1"
      },
      "source": [
        "Bom, agora que temos isso resolvido, vamos ao próximo passo: rodar o EDA. O EDA pode ser feito manualmente, mas vamos aprender a fazer isso de maneira automatizada. Para essa análise mais automatizada, vamos usar três ferramentas: `jupyter-summarytools`, `sweetviz` e `dtale`."
      ]
    },
    {
      "cell_type": "markdown",
      "metadata": {
        "id": "5TFE97FKNP_1"
      },
      "source": [
        "### Jupyter-summarytools"
      ]
    },
    {
      "cell_type": "markdown",
      "metadata": {
        "id": "qMtYF-iQNP_2"
      },
      "source": [
        "É a versão mais bonita do `describe()`. Ele nos dá um resumo estatístico dos dados, mas de uma maneira mais visual e interativa. Para instalar, basta rodar o comando `!pip install jupyter-summarytools` no seu Jupyter Notebook."
      ]
    },
    {
      "cell_type": "code",
      "source": [
        "!pip install jupyter-summarytools"
      ],
      "metadata": {
        "id": "oB6tK7M9Ns1D"
      },
      "execution_count": null,
      "outputs": []
    },
    {
      "cell_type": "code",
      "execution_count": null,
      "metadata": {
        "id": "mzASSRhXE1V8"
      },
      "outputs": [],
      "source": [
        "from summarytools import dfSummary\n",
        "\n",
        "dfSummary(df)"
      ]
    },
    {
      "cell_type": "markdown",
      "metadata": {
        "id": "m-fY7c-ZNP_2"
      },
      "source": [
        "### Sweetviz"
      ]
    },
    {
      "cell_type": "markdown",
      "metadata": {
        "id": "UlO2VFYSNP_2"
      },
      "source": [
        "O Sweetviz é uma ferramenta que nos dá um relatório completo dos dados, com gráficos e tabelas que nos ajudam a entender melhor os dados. Para instalar, basta rodar o comando `!pip install sweetviz` no seu Jupyter Notebook. Ele é muito fácil de usar, basta rodar o comando `sweetviz.analyze([seu_dataframe])` e ele vai gerar um relatório completo dos seus dados."
      ]
    },
    {
      "cell_type": "code",
      "source": [
        "!pip install sweetviz"
      ],
      "metadata": {
        "id": "KnMIYGjvN2JB"
      },
      "execution_count": null,
      "outputs": []
    },
    {
      "cell_type": "code",
      "execution_count": null,
      "metadata": {
        "id": "rQMOFJL_G4aU"
      },
      "outputs": [],
      "source": [
        "import sweetviz as sv\n",
        "\n",
        "my_report = sv.analyze(df)\n",
        "\n",
        "# Exibindo o relatório no próprio notebook\n",
        "# Existem outras opções de saída, como HTML e JSON.\n",
        "my_report.show_notebook()"
      ]
    },
    {
      "cell_type": "markdown",
      "metadata": {
        "id": "WAbY0VNqNP_3"
      },
      "source": [
        "### D-Tale"
      ]
    },
    {
      "cell_type": "markdown",
      "metadata": {
        "id": "-T7zywPmNP_3"
      },
      "source": [
        "O D-Tale é uma ferramenta que nos dá um relatório completo dos dados, com gráficos e tabelas que nos ajudam a entender melhor os dados. Para instalar, basta rodar o comando `!pip install dtale` no seu Jupyter Notebook. Ele é muito fácil de usar, basta rodar o comando `dtale.show([seu_dataframe])` e ele vai gerar um relatório completo dos seus dados."
      ]
    },
    {
      "cell_type": "code",
      "source": [
        "!pip install dtale"
      ],
      "metadata": {
        "id": "8wrUitl-N_gi"
      },
      "execution_count": null,
      "outputs": []
    },
    {
      "cell_type": "code",
      "execution_count": null,
      "metadata": {
        "id": "oos71XtZNP_3"
      },
      "outputs": [],
      "source": [
        "import dtale\n",
        "\n",
        "import dtale.app as dtale_app\n",
        "\n",
        "dtale_app.USE_COLAB = True\n",
        "\n",
        "dtale.show(df)"
      ]
    },
    {
      "cell_type": "markdown",
      "metadata": {
        "id": "yZSuNsgFNP_3"
      },
      "source": [
        "Infelizmente, não podemos ver o resultado aqui, mas você pode rodar no seu Jupyter Notebook ou Google Colab e ver o resultado."
      ]
    },
    {
      "cell_type": "markdown",
      "metadata": {
        "id": "Muy-R82Upjxy"
      },
      "source": [
        "# Criando os testes unitários"
      ]
    },
    {
      "cell_type": "markdown",
      "metadata": {
        "id": "8wN2SVM-p2BP"
      },
      "source": [
        "Agora que sabemos sobre alguns dos tipos de testes que podemos aplicar aos nossos dados, vamos aprender como organizar isso de uma forma prática.\n",
        "\n",
        "A idéia é englobar os testes aprendidos em funções que podem ser chamadas a qualquer momento, assim a cada alteração que fazemos no dataset, podemos validar o mesmo.\n",
        "\n",
        "Em primeiro lugar, englobamos os testes que fizemos em funções."
      ]
    },
    {
      "cell_type": "code",
      "execution_count": null,
      "metadata": {
        "id": "55fiXhOZrIsr"
      },
      "outputs": [],
      "source": [
        "def teste_nulos(data_frame, coluna=None):\n",
        "    \"\"\"Verifica se o DataFrame ou uma Coluna específica possui valores nulos.\n",
        "\n",
        "      Returns:\n",
        "        True se houver valores nulos, False caso contrário.\n",
        "    \"\"\"\n",
        "    if coluna is None:\n",
        "        return data_frame.isnull().values.any()\n",
        "    else:\n",
        "        return data_frame[coluna].isnull().values.any()\n",
        "\n",
        "\n",
        "def teste_eh_numero(data_frame, coluna):\n",
        "    \"\"\"Verifica se os valores de uma coluna são numéricos.\n",
        "\n",
        "    Returns:\n",
        "      True se algum dos valores não é numérico, False caso contrário.\n",
        "    \"\"\"\n",
        "    from pandas.api.types import is_numeric_dtype\n",
        "\n",
        "    return is_numeric_dtype(data_frame[coluna])\n",
        "\n",
        "\n",
        "def teste_vazio(data_frame, coluna=None):\n",
        "    \"\"\"Verifica se o DataFrame ou uma Coluna específica está vazio.\n",
        "\n",
        "      Returns:\n",
        "        True se estiver vazio, False caso contrário.\n",
        "    \"\"\"\n",
        "    if coluna is None:\n",
        "        return data_frame.empty\n",
        "    else:\n",
        "        return data_frame[coluna].empty\n",
        "\n",
        "\n",
        "def teste_condicional(data_frame, condicao):\n",
        "    \"\"\"Verifica se o DataFrame atende a uma condição.\n",
        "\n",
        "    Returns:\n",
        "      True se atender a condicão, False caso contrário.\n",
        "    \"\"\"\n",
        "    result = data_frame.query(condicao)\n",
        "    return not(result.empty)\n",
        "\n",
        "\n",
        "def teste_valores(data_frame, coluna, valores):\n",
        "    \"\"\"Verifica se os valores de uma coluna estão contidos em uma lista.\n",
        "\n",
        "    Returns:\n",
        "      True se estiver na lista, False caso contrário.\n",
        "    \"\"\"\n",
        "    result = data_frame[coluna].apply(lambda x: x in valores).any()\n",
        "    return result"
      ]
    },
    {
      "cell_type": "markdown",
      "metadata": {
        "id": "K7E7TQDqHkqC"
      },
      "source": [
        "A próxima etapa é criar uma função que irá chamar todas essas funções utilizando o comando [assert](https://www.hashtagtreinamentos.com/assert-em-python?gad_source=1&gclid=CjwKCAjwnK60BhA9EiwAmpHZwyuM4NTnpYRAah1I0XwTUgO6m60fiSbxWIM_RmxkwLHddA-Yl9DqPBoCbrQQAvD_BwE)\n",
        "\n",
        "O comando `assert` é utilizado para verificar se uma expressão é verdadeira. Se a expressão for verdadeira, o programa continua a execução normalmente. Se a expressão for falsa, o programa lança uma exceção do tipo `AssertionError`."
      ]
    },
    {
      "cell_type": "code",
      "execution_count": null,
      "metadata": {
        "id": "N9f-MXeYJ3Gc"
      },
      "outputs": [],
      "source": [
        "def run_unit_test(data_frame):\n",
        "    try:\n",
        "      assert teste_nulos(data_frame) == False, 'Existem valores nulos'\n",
        "      assert teste_nulos(data_frame, 'Name') == False, 'Existem valores nulos na coluna Name'\n",
        "      assert teste_eh_numero(data_frame, 'Age'), 'A coluna Age não é do tipo numérico'\n",
        "      assert teste_vazio(data_frame) == False, 'O data_frame está vazio'\n",
        "      assert teste_condicional(data_frame, 'Age < 40') == True, 'Não tem menores de quarenta'\n",
        "      assert teste_valores(data_frame, 'Category', ['Category A', 'Category B', 'Category C']) == True, 'Categoria Invalida'\n",
        "      print('Testes finalizados com sucesso.')\n",
        "    except AssertionError as e:\n",
        "      print(e)\n"
      ]
    },
    {
      "cell_type": "markdown",
      "metadata": {
        "id": "G56ZBFLPNwSm"
      },
      "source": [
        "Tendo criado a função, agora só resta executa-la, observar as falhas, aplicar as correções e rodar os testes unitários novamente, até que todos passem."
      ]
    },
    {
      "cell_type": "markdown",
      "metadata": {
        "id": "vtTcWnO8NP_5"
      },
      "source": [
        "#### 1a Execução"
      ]
    },
    {
      "cell_type": "code",
      "execution_count": null,
      "metadata": {
        "id": "evQTN_GoeysZ"
      },
      "outputs": [],
      "source": [
        "run_unit_test(df)"
      ]
    },
    {
      "cell_type": "markdown",
      "metadata": {
        "id": "DntWFN4hfDyg"
      },
      "source": [
        "Para determinar isso, podemos apenas chamar a função info() do dataframe, que nos dá informações sobre o dataset, como o número de linhas, colunas, tipos de dados, etc."
      ]
    },
    {
      "cell_type": "code",
      "execution_count": null,
      "metadata": {
        "id": "us94w87QNP_5"
      },
      "outputs": [],
      "source": [
        "df.info()"
      ]
    },
    {
      "cell_type": "markdown",
      "metadata": {
        "id": "ZpyMdqEDNP_5"
      },
      "source": [
        "O campo Name está com problema. Vamos corrigir isso."
      ]
    },
    {
      "cell_type": "code",
      "execution_count": null,
      "metadata": {
        "id": "nqKcpVCNNP_5"
      },
      "outputs": [],
      "source": [
        "df['Name'] = df['Name'].fillna('Desconhecido')"
      ]
    },
    {
      "cell_type": "markdown",
      "metadata": {
        "id": "Rgf6EixYNP_6"
      },
      "source": [
        "Agora, vamos para a segunda execução."
      ]
    },
    {
      "cell_type": "markdown",
      "metadata": {
        "id": "B6Mp3ZcaNP_6"
      },
      "source": [
        "#### 2a Execução"
      ]
    },
    {
      "cell_type": "code",
      "execution_count": null,
      "metadata": {
        "id": "voIGq7knfQ8n"
      },
      "outputs": [],
      "source": [
        "run_unit_test(df)"
      ]
    },
    {
      "cell_type": "markdown",
      "metadata": {
        "id": "RPLitPYYNP_6"
      },
      "source": [
        "Agora, é a coluna Age que está com problema. Vamos corrigir isso."
      ]
    },
    {
      "cell_type": "code",
      "execution_count": null,
      "metadata": {
        "id": "QslgdZrANP_6"
      },
      "outputs": [],
      "source": [
        "df['Age'] = pd.to_numeric(df['Age'])"
      ]
    },
    {
      "cell_type": "markdown",
      "metadata": {
        "id": "ENWT--phNP_6"
      },
      "source": [
        "Vamos para a 3a execução."
      ]
    },
    {
      "cell_type": "markdown",
      "metadata": {
        "id": "KDWKR9bBNP_7"
      },
      "source": [
        "#### 3a Execução"
      ]
    },
    {
      "cell_type": "code",
      "execution_count": null,
      "metadata": {
        "id": "YCXCiKejNP_7"
      },
      "outputs": [],
      "source": [
        "run_unit_test(df)"
      ]
    },
    {
      "cell_type": "markdown",
      "metadata": {
        "id": "9J6Qj_8iNP_7"
      },
      "source": [
        "Vamos ver os valores possíveis do campo Category."
      ]
    },
    {
      "cell_type": "code",
      "execution_count": null,
      "metadata": {
        "id": "LxKG21TQNP_7"
      },
      "outputs": [],
      "source": [
        "df['Category'].unique().tolist()"
      ]
    },
    {
      "cell_type": "markdown",
      "metadata": {
        "id": "ZGlUWlfGNP_7"
      },
      "source": [
        "Temos um No Category ali que está fazendo o teste falhar. Vamos corrigir isso. Mas qual seria a melhor correção? Trocar o valor por um dos válidos ou corrigir o teste? A resposta dependerá do contexto do negócio. Aqui, vamos assumir que corrigir o teste é a melhor alternativa.\n"
      ]
    },
    {
      "cell_type": "code",
      "execution_count": null,
      "metadata": {
        "id": "_N0mDttNNP_8"
      },
      "outputs": [],
      "source": [
        "def run_unit_test(data_frame):\n",
        "  try:\n",
        "    assert teste_nulos(data_frame) == False, \"Existem valores nulos\"\n",
        "    assert (teste_nulos(data_frame, \"Name\") == False), \"Existem valores nulos na coluna Name\"\n",
        "    assert teste_eh_numero(data_frame, \"Age\"), \"A coluna Age não é do tipo numérico\"\n",
        "    assert teste_vazio(data_frame) == False, \"O data_frame está vazio\"\n",
        "    assert (teste_condicional(data_frame, \"Age < 40\") == True), \"Não tem menores de quarenta\"\n",
        "    assert (teste_valores(data_frame, \"Category\", [\"Category A\", \"Category B\", \"Category C\", \"No Category\"]) == True), \"Categoria Invalida\"\n",
        "    print(\"Testes finalizados com sucesso.\")\n",
        "  except AssertionError as e:\n",
        "    print(e)"
      ]
    },
    {
      "cell_type": "markdown",
      "metadata": {
        "id": "0sD4BH0hNP_8"
      },
      "source": [
        "#### 4a Execução"
      ]
    },
    {
      "cell_type": "code",
      "execution_count": null,
      "metadata": {
        "id": "pw8n-xQrNP_8"
      },
      "outputs": [],
      "source": [
        "run_unit_test(df)"
      ]
    },
    {
      "cell_type": "markdown",
      "metadata": {
        "id": "XNNBHeuLNP_8"
      },
      "source": [
        "Agora sim, finalizamos o nosso processo de testar os dados. Agora, temos um dataset que está de acordo com as regras de negócio e podemos utilizá-lo para fazer análises."
      ]
    },
    {
      "cell_type": "markdown",
      "metadata": {
        "id": "kPRKDqc7NP_8"
      },
      "source": [
        "# Conclusão"
      ]
    },
    {
      "cell_type": "markdown",
      "metadata": {
        "id": "__EBqpswNP_8"
      },
      "source": [
        "Neste artigo, aprendemos como fazer testes unitários em dados utilizando a biblioteca Pandas. Vimos que é possível fazer testes simples, como verificar se o dataset está vazio, se uma coluna está vazia, se existem valores nulos, se os tipos de dados estão corretos, etc. Também vimos que é possível fazer testes mais complexos, como verificar se os valores de uma coluna estão dentro de um intervalo esperado, se obedecem a uma lógica dependente de outras colunas, etc.\n",
        "\n",
        "Aprendemos também como organizar esses testes em funções e como criar uma função que chama todas essas funções e verifica se os testes passaram ou não. Com isso, podemos garantir que os dados estão de acordo com as regras de negócio e que podemos utilizá-los para fazer análises.\n",
        "\n",
        "Mas é importante lembrar que os testes unitários não são a única forma de garantir a qualidade dos dados. É importante também fazer uma análise exploratória dos dados, verificar se os dados estão de acordo com o esperado, se não há outliers, se a distribuição dos dados está correta, etc. E, é claro, é importante também fazer validações manuais, para garantir que os dados estão corretos."
      ]
    },
    {
      "cell_type": "markdown",
      "metadata": {
        "id": "mcqBA0WVNP_9"
      },
      "source": [
        "Um abraço e até a próxima,\n",
        "\n",
        "Walter."
      ]
    }
  ],
  "metadata": {
    "colab": {
      "provenance": [],
      "toc_visible": true,
      "include_colab_link": true
    },
    "kernelspec": {
      "display_name": "venv",
      "language": "python",
      "name": "python3"
    },
    "language_info": {
      "codemirror_mode": {
        "name": "ipython",
        "version": 3
      },
      "file_extension": ".py",
      "mimetype": "text/x-python",
      "name": "python",
      "nbconvert_exporter": "python",
      "pygments_lexer": "ipython3",
      "version": "3.12.3"
    }
  },
  "nbformat": 4,
  "nbformat_minor": 0
}