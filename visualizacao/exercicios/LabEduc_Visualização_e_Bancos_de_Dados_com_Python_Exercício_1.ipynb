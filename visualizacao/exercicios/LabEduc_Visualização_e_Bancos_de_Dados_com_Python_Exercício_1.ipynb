{
  "cells": [
    {
      "cell_type": "markdown",
      "metadata": {
        "colab_type": "text",
        "id": "view-in-github"
      },
      "source": [
        "<a href=\"https://colab.research.google.com/github/labeduc/ciencia-de-dados/blob/main/visualizacao/exercicios/LabEduc_Visualiza%C3%A7%C3%A3o_e_Bancos_de_Dados_com_Python_Exerc%C3%ADcio_1.ipynb\" target=\"_parent\"><img src=\"https://colab.research.google.com/assets/colab-badge.svg\" alt=\"Open In Colab\"/></a>"
      ]
    },
    {
      "cell_type": "markdown",
      "metadata": {
        "id": "P4nz3n48nLno"
      },
      "source": [
        "# Exercício 1 - Analisando a premiação dos Oscars"
      ]
    },
    {
      "cell_type": "markdown",
      "metadata": {
        "id": "5RweorAkxQ7t"
      },
      "source": [
        "O Oscar é uma premiação que existe há muito tempo, e  é um dos prêmios mais significativos para a carreira de um ator ou diretor.\n",
        "\n",
        "Neste exercício, iremos por em prática seus conhecimentos a respeito de seaborn e Pandas. \n",
        "\n",
        "Já deixamos preparado a linha de comando para carregar o dataset e a variável com o caminho para acessar o arquivo. A partir daí, é com vocês, cientistas de dados!!!"
      ]
    },
    {
      "cell_type": "markdown",
      "metadata": {
        "id": "hY3SUcMb3si8"
      },
      "source": [
        "## Preparando o ambiente"
      ]
    },
    {
      "cell_type": "code",
      "execution_count": null,
      "metadata": {
        "colab": {
          "base_uri": "https://localhost:8080/"
        },
        "id": "VTn4Z6HdoYHG",
        "outputId": "088aa3ba-7e22-482a-9f72-fcb948eff147"
      },
      "outputs": [],
      "source": [
        "!git lfs clone -l -s https://github.com/labeduc/datasets.git"
      ]
    },
    {
      "cell_type": "code",
      "execution_count": null,
      "metadata": {
        "id": "9zfGf7mz3z_4"
      },
      "outputs": [],
      "source": [
        "nome_do_arquivo = '/content/datasets/oscars/demographics.csv'"
      ]
    },
    {
      "cell_type": "markdown",
      "metadata": {
        "id": "E-DiWujD58NE"
      },
      "source": [
        "## Tarefas"
      ]
    },
    {
      "cell_type": "markdown",
      "metadata": {
        "id": "A1c_Zdg15_48"
      },
      "source": [
        "**1.** Para esquentar os motores, a primeira tarefa é simples: utilizando a variável que contém o nome do arquivo, carregue o mesmo em um DataFrame Pandas e nos diga quantas linhas e colunas o mesmo tem.\n",
        "\n",
        "**2.** Qual o intervalo de anos que este dataset compreende?\n",
        "\n",
        "**3.** Quem ganhou mais prêmios: pessoas Hétero ou LGBTQIA+? Aqui será necessário reagrupar os premiados de acordo com essas categorias.\n",
        "\n",
        "**4.** E como fica a distribuição da idade dos vencedores ao longo dos anos? Eles tem ficado mais velhos ou mais novos? Monte um histograma demonstrando essa tendência.\n",
        "\n",
        "\n",
        "\n"
      ]
    },
    {
      "cell_type": "markdown",
      "metadata": {
        "id": "gjnksIEyHQFj"
      },
      "source": [
        "## Resultados"
      ]
    },
    {
      "cell_type": "code",
      "execution_count": null,
      "metadata": {
        "id": "FtgeqV0A6PSn"
      },
      "outputs": [],
      "source": []
    }
  ],
  "metadata": {
    "colab": {
      "authorship_tag": "ABX9TyPZ3upySyfaH7unzwy36YTb",
      "include_colab_link": true,
      "provenance": []
    },
    "kernelspec": {
      "display_name": "Python 3",
      "name": "python3"
    },
    "language_info": {
      "name": "python"
    }
  },
  "nbformat": 4,
  "nbformat_minor": 0
}
