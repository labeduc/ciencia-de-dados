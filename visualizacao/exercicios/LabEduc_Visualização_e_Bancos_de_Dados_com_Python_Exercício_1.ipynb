{
  "nbformat": 4,
  "nbformat_minor": 0,
  "metadata": {
    "colab": {
      "provenance": [],
      "authorship_tag": "ABX9TyPtHpO5Ue5QmMq0FIpIQpaQ",
      "include_colab_link": true
    },
    "kernelspec": {
      "name": "python3",
      "display_name": "Python 3"
    },
    "language_info": {
      "name": "python"
    }
  },
  "cells": [
    {
      "cell_type": "markdown",
      "metadata": {
        "id": "view-in-github",
        "colab_type": "text"
      },
      "source": [
        "<a href=\"https://colab.research.google.com/github/labeduc/ciencia-de-dados/blob/main/visualizacao/exercicios/LabEduc_Visualiza%C3%A7%C3%A3o_e_Bancos_de_Dados_com_Python_Exerc%C3%ADcio_1.ipynb\" target=\"_parent\"><img src=\"https://colab.research.google.com/assets/colab-badge.svg\" alt=\"Open In Colab\"/></a>"
      ]
    },
    {
      "cell_type": "code",
      "execution_count": null,
      "metadata": {
        "id": "8LlNIWsVkZZI"
      },
      "outputs": [],
      "source": [
        "import pandas"
      ]
    }
  ]
}