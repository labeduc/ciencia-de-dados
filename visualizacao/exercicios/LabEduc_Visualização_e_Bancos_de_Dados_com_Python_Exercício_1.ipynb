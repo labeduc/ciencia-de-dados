{
  "nbformat": 4,
  "nbformat_minor": 0,
  "metadata": {
    "colab": {
      "provenance": [],
      "authorship_tag": "ABX9TyPZ3upySyfaH7unzwy36YTb",
      "include_colab_link": true
    },
    "kernelspec": {
      "name": "python3",
      "display_name": "Python 3"
    },
    "language_info": {
      "name": "python"
    }
  },
  "cells": [
    {
      "cell_type": "markdown",
      "metadata": {
        "id": "view-in-github",
        "colab_type": "text"
      },
      "source": [
        "<a href=\"https://colab.research.google.com/github/labeduc/ciencia-de-dados/blob/main/visualizacao/exercicios/LabEduc_Visualiza%C3%A7%C3%A3o_e_Bancos_de_Dados_com_Python_Exerc%C3%ADcio_1.ipynb\" target=\"_parent\"><img src=\"https://colab.research.google.com/assets/colab-badge.svg\" alt=\"Open In Colab\"/></a>"
      ]
    },
    {
      "cell_type": "markdown",
      "source": [
        "# Exercício 1 - Analisando a premiação dos Oscars"
      ],
      "metadata": {
        "id": "P4nz3n48nLno"
      }
    },
    {
      "cell_type": "markdown",
      "source": [
        "O Oscar é uma premiação que existe há muito tempo, e  é um dos prêmios mais significativos para a carreira de um ator ou diretor.\n",
        "\n",
        "Neste exercício, iremos por em prática seus conhecimentos a respeito de seaborn e Pandas. \n",
        "\n",
        "Já deixamos preparado a linha de comando para carregar o dataset e a variável com o caminho para acessar o arquivo. A partir daí, é com vocês, cientistas de dados!!!"
      ],
      "metadata": {
        "id": "5RweorAkxQ7t"
      }
    },
    {
      "cell_type": "markdown",
      "source": [
        "## Preparando o ambiente"
      ],
      "metadata": {
        "id": "hY3SUcMb3si8"
      }
    },
    {
      "cell_type": "code",
      "source": [
        "!git lfs clone -l -s https://github.com/labeduc/datasets.git"
      ],
      "metadata": {
        "id": "VTn4Z6HdoYHG",
        "outputId": "088aa3ba-7e22-482a-9f72-fcb948eff147",
        "colab": {
          "base_uri": "https://localhost:8080/"
        }
      },
      "execution_count": null,
      "outputs": [
        {
          "output_type": "stream",
          "name": "stdout",
          "text": [
            "WARNING: 'git lfs clone' is deprecated and will not be updated\n",
            "          with new flags from 'git clone'\n",
            "\n",
            "'git clone' has been updated in upstream Git to have comparable\n",
            "speeds to 'git lfs clone'.\n",
            "Cloning into 'datasets'...\n",
            "warning: --local is ignored\n",
            "remote: Enumerating objects: 25, done.\u001b[K\n",
            "remote: Counting objects: 100% (25/25), done.\u001b[K\n",
            "remote: Compressing objects: 100% (19/19), done.\u001b[K\n",
            "remote: Total 25 (delta 0), reused 22 (delta 0), pack-reused 0\u001b[K\n",
            "Unpacking objects: 100% (25/25), done.\n",
            "Git LFS: (5 of 5 files) 104.20 MB / 104.20 MB\n"
          ]
        }
      ]
    },
    {
      "cell_type": "code",
      "source": [
        "nome_do_arquivo = '/content/datasets/oscars/demographics.csv'"
      ],
      "metadata": {
        "id": "9zfGf7mz3z_4"
      },
      "execution_count": null,
      "outputs": []
    },
    {
      "cell_type": "markdown",
      "source": [
        "## Tarefas"
      ],
      "metadata": {
        "id": "E-DiWujD58NE"
      }
    },
    {
      "cell_type": "markdown",
      "source": [
        "**1.** Para esquentar os motores, a primeira tarefa é simples: utilizando a variável que contém o nome do arquivo, carregue o mesmo em um DataFrame Pandas e nos diga quantas linhas e colunas o mesmo tem.\n",
        "\n",
        "**2.** Qual o intervalo de anos que este dataset compreende?\n",
        "\n",
        "**3.** Quem ganhou mais prêmios: pessoas Hétero ou LGBTQIA+? Aqui será necessário reagrupar os premiados de acordo com essas categorias.\n",
        "\n",
        "**4.** E como fica a distribuição da idade dos vencedores ao longo dos anos? Eles tem ficado mais velhos ou mais novos? Monte um histograma demonstrando essa tendência.\n",
        "\n",
        "\n",
        "\n"
      ],
      "metadata": {
        "id": "A1c_Zdg15_48"
      }
    },
    {
      "cell_type": "markdown",
      "source": [
        "## Resultados"
      ],
      "metadata": {
        "id": "gjnksIEyHQFj"
      }
    },
    {
      "cell_type": "code",
      "source": [],
      "metadata": {
        "id": "FtgeqV0A6PSn"
      },
      "execution_count": null,
      "outputs": []
    }
  ]
}